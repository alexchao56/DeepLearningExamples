{
 "cells": [
  {
   "cell_type": "markdown",
   "metadata": {},
   "source": [
    "# Hello World"
   ]
  },
  {
   "cell_type": "code",
   "execution_count": 50,
   "metadata": {
    "collapsed": false
   },
   "outputs": [
    {
     "name": "stdout",
     "output_type": "stream",
     "text": [
      "Hello, TensorFlow!\n"
     ]
    }
   ],
   "source": [
    "import tensorflow as tf\n",
    "\n",
    "#Simple hello world using TensorFlow\n",
    "\n",
    "# Create a Constant op\n",
    "# The op is added as a node to the default graph.\n",
    "#\n",
    "# The value returned by the constructor represents the output\n",
    "# of the Constant op.\n",
    "hello = tf.constant('Hello, TensorFlow!')\n",
    "\n",
    "# Start tf session\n",
    "sess = tf.Session()\n",
    "\n",
    "print sess.run(hello)"
   ]
  },
  {
   "cell_type": "markdown",
   "metadata": {},
   "source": [
    "# Math"
   ]
  },
  {
   "cell_type": "code",
   "execution_count": 1,
   "metadata": {
    "collapsed": false
   },
   "outputs": [
    {
     "name": "stdout",
     "output_type": "stream",
     "text": [
      "2.000000 should equal 2.0\n",
      "9.000000 should equal 9.0\n"
     ]
    }
   ],
   "source": [
    "import tensorflow as tf\n",
    "\n",
    "a = tf.placeholder(\"float\") # Create a symbolic variable 'a'\n",
    "b = tf.placeholder(\"float\") # Create a symbolic variable 'b'\n",
    "\n",
    "y = tf.mul(a, b) # multiply the symbolic variables\n",
    "\n",
    "sess = tf.Session() # create a session to evaluate the symbolic expressions\n",
    "\n",
    "print \"%f should equal 2.0\" % sess.run(y, feed_dict={a: 1, b: 2}) # eval expressions with parameters for a and b\n",
    "print \"%f should equal 9.0\" % sess.run(y, feed_dict={a: 3, b: 3})"
   ]
  },
  {
   "cell_type": "code",
   "execution_count": 51,
   "metadata": {
    "collapsed": false
   },
   "outputs": [
    {
     "name": "stdout",
     "output_type": "stream",
     "text": [
      "a=2, b=3\n",
      "Addition with constants: 5\n",
      "Multiplication with constants: 6\n",
      "Addition with variables: 5\n",
      "Multiplication with variables: 6\n",
      "[[ 12.]]\n"
     ]
    }
   ],
   "source": [
    "import tensorflow as tf\n",
    "\n",
    "# Basic constant operations\n",
    "# The value returned by the constructor represents the output\n",
    "# of the Constant op.\n",
    "a = tf.constant(2)\n",
    "b = tf.constant(3)\n",
    "\n",
    "# Launch the default graph.\n",
    "with tf.Session() as sess:\n",
    "    print \"a=2, b=3\"\n",
    "    print \"Addition with constants: %i\" % sess.run(a+b)\n",
    "    print \"Multiplication with constants: %i\" % sess.run(a*b)\n",
    "\n",
    "# Basic Operations with variable as graph input\n",
    "# The value returned by the constructor represents the output\n",
    "# of the Variable op. (define as input when running session)\n",
    "# tf Graph input\n",
    "a = tf.placeholder(tf.types.int16)\n",
    "b = tf.placeholder(tf.types.int16)\n",
    "\n",
    "# Define some operations\n",
    "add = tf.add(a, b)\n",
    "mul = tf.mul(a, b)\n",
    "\n",
    "# Launch the default graph.\n",
    "with tf.Session() as sess:\n",
    "    # Run every operation with variable input\n",
    "    print \"Addition with variables: %i\" % sess.run(add, feed_dict={a: 2, b: 3})\n",
    "    print \"Multiplication with variables: %i\" % sess.run(mul, feed_dict={a: 2, b: 3})\n",
    "\n",
    "\n",
    "# ----------------\n",
    "# More in details:\n",
    "# Matrix Multiplication from TensorFlow official tutorial\n",
    "\n",
    "# Create a Constant op that produces a 1x2 matrix.  The op is\n",
    "# added as a node to the default graph.\n",
    "#\n",
    "# The value returned by the constructor represents the output\n",
    "# of the Constant op.\n",
    "matrix1 = tf.constant([[3., 3.]])\n",
    "\n",
    "# Create another Constant that produces a 2x1 matrix.\n",
    "matrix2 = tf.constant([[2.],[2.]])\n",
    "\n",
    "# Create a Matmul op that takes 'matrix1' and 'matrix2' as inputs.\n",
    "# The returned value, 'product', represents the result of the matrix\n",
    "# multiplication.\n",
    "product = tf.matmul(matrix1, matrix2)\n",
    "\n",
    "# To run the matmul op we call the session 'run()' method, passing 'product'\n",
    "# which represents the output of the matmul op.  This indicates to the call\n",
    "# that we want to get the output of the matmul op back.\n",
    "#\n",
    "# All inputs needed by the op are run automatically by the session.  They\n",
    "# typically are run in parallel.\n",
    "#\n",
    "# The call 'run(product)' thus causes the execution of threes ops in the\n",
    "# graph: the two constants and matmul.\n",
    "#\n",
    "# The output of the op is returned in 'result' as a numpy `ndarray` object.\n",
    "with tf.Session() as sess:\n",
    "    result = sess.run(product)\n",
    "    print result\n",
    "    # ==> [[ 12.]]"
   ]
  },
  {
   "cell_type": "markdown",
   "metadata": {},
   "source": [
    "## Linear Regression"
   ]
  },
  {
   "cell_type": "code",
   "execution_count": 14,
   "metadata": {
    "collapsed": false
   },
   "outputs": [
    {
     "name": "stdout",
     "output_type": "stream",
     "text": [
      "2.01006\n"
     ]
    }
   ],
   "source": [
    "import tensorflow as tf\n",
    "import numpy as np\n",
    "\n",
    "trX = np.linspace(-1, 1, 101)\n",
    "trY = 2 * trX + np.random.randn(*trX.shape) * 0.33 # create a y value which is approximately linear but with some random noise\n",
    "\n",
    "X = tf.placeholder(\"float\") # create symbolic variables\n",
    "Y = tf.placeholder(\"float\")\n",
    "\n",
    "\n",
    "def model(X, w):\n",
    "    return tf.mul(X, w) # lr is just X*w so this model line is pretty simple\n",
    "\n",
    "\n",
    "w = tf.Variable(0.0, name=\"weights\") # create a shared variable (like theano.shared) for the weight matrix\n",
    "y_model = model(X, w)\n",
    "\n",
    "cost = (tf.pow(Y-y_model, 2)) # use sqr error for cost function\n",
    "\n",
    "train_op = tf.train.GradientDescentOptimizer(0.01).minimize(cost) # construct an optimizer to minimize cost and fit line to my data\n",
    "\n",
    "sess = tf.Session()\n",
    "init = tf.initialize_all_variables() # you need to initialize variables (in this case just variable W)\n",
    "sess.run(init)\n",
    "\n",
    "for i in range(100):\n",
    "    for (x, y) in zip(trX, trY): \n",
    "        sess.run(train_op, feed_dict={X: x, Y: y})\n",
    "\n",
    "print(sess.run(w))  # something around 2"
   ]
  },
  {
   "cell_type": "code",
   "execution_count": 52,
   "metadata": {
    "collapsed": false
   },
   "outputs": [
    {
     "name": "stdout",
     "output_type": "stream",
     "text": [
      "Epoch: 0001 cost= 56.338920593 W= -1.05473 b= -1.22105\n",
      "Epoch: 0051 cost= 0.254395306 W= 0.485045 b= -0.892357\n",
      "Epoch: 0101 cost= 0.233900949 W= 0.471042 b= -0.791617\n",
      "Epoch: 0151 cost= 0.215773210 W= 0.457871 b= -0.696869\n",
      "Epoch: 0201 cost= 0.199738681 W= 0.445484 b= -0.607756\n",
      "Epoch: 0251 cost= 0.185555816 W= 0.433834 b= -0.523944\n",
      "Epoch: 0301 cost= 0.173010752 W= 0.422876 b= -0.445116\n",
      "Epoch: 0351 cost= 0.161914438 W= 0.41257 b= -0.370976\n",
      "Epoch: 0401 cost= 0.152099639 W= 0.402877 b= -0.301245\n",
      "Epoch: 0451 cost= 0.143418401 W= 0.393761 b= -0.235662\n",
      "Epoch: 0501 cost= 0.135739803 W= 0.385187 b= -0.173979\n",
      "Epoch: 0551 cost= 0.128948092 W= 0.377122 b= -0.115965\n",
      "Epoch: 0601 cost= 0.122940958 W= 0.369537 b= -0.0614008\n",
      "Epoch: 0651 cost= 0.117627747 W= 0.362404 b= -0.010082\n",
      "Epoch: 0701 cost= 0.112928316 W= 0.355694 b= 0.0381847\n",
      "Epoch: 0751 cost= 0.108771816 W= 0.349384 b= 0.0835807\n",
      "Epoch: 0801 cost= 0.105095580 W= 0.343449 b= 0.126277\n",
      "Epoch: 0851 cost= 0.101844095 W= 0.337867 b= 0.166434\n",
      "Epoch: 0901 cost= 0.098968334 W= 0.332617 b= 0.204202\n",
      "Epoch: 0951 cost= 0.096424922 W= 0.327679 b= 0.239724\n",
      "Epoch: 1001 cost= 0.094175495 W= 0.323035 b= 0.273133\n",
      "Epoch: 1051 cost= 0.092186011 W= 0.318667 b= 0.304556\n",
      "Epoch: 1101 cost= 0.090426527 W= 0.314559 b= 0.33411\n",
      "Epoch: 1151 cost= 0.088870466 W= 0.310695 b= 0.361906\n",
      "Epoch: 1201 cost= 0.087494254 W= 0.307061 b= 0.388049\n",
      "Epoch: 1251 cost= 0.086277209 W= 0.303643 b= 0.412637\n",
      "Epoch: 1301 cost= 0.085200943 W= 0.300429 b= 0.435763\n",
      "Epoch: 1351 cost= 0.084249116 W= 0.297405 b= 0.457513\n",
      "Epoch: 1401 cost= 0.083407454 W= 0.294562 b= 0.47797\n",
      "Epoch: 1451 cost= 0.082663104 W= 0.291887 b= 0.49721\n",
      "Epoch: 1501 cost= 0.082004935 W= 0.289372 b= 0.515305\n",
      "Epoch: 1551 cost= 0.081422947 W= 0.287006 b= 0.532324\n",
      "Epoch: 1601 cost= 0.080908276 W= 0.284781 b= 0.548331\n",
      "Epoch: 1651 cost= 0.080453217 W= 0.282688 b= 0.563387\n",
      "Epoch: 1701 cost= 0.080050804 W= 0.28072 b= 0.577548\n",
      "Epoch: 1751 cost= 0.079695009 W= 0.278868 b= 0.590866\n",
      "Epoch: 1801 cost= 0.079380430 W= 0.277127 b= 0.603394\n",
      "Epoch: 1851 cost= 0.079102315 W= 0.275489 b= 0.615175\n",
      "Epoch: 1901 cost= 0.078856476 W= 0.273949 b= 0.626253\n",
      "Epoch: 1951 cost= 0.078639150 W= 0.272501 b= 0.636672\n",
      "Optimization Finished!\n",
      "cost= 0.0784506 W= 0.271165 b= 0.646282\n"
     ]
    },
    {
     "data": {
      "image/png": "[encoded data removed]",
      "text/plain": [
       "<matplotlib.figure.Figure at 0x116916f50>"
      ]
     },
     "metadata": {},
     "output_type": "display_data"
    }
   ],
   "source": [
    "import tensorflow as tf\n",
    "import numpy\n",
    "import matplotlib.pyplot as plt\n",
    "rng = numpy.random\n",
    "\n",
    "# Parameters\n",
    "learning_rate = 0.01\n",
    "training_epochs = 2000\n",
    "display_step = 50\n",
    "\n",
    "# Training Data\n",
    "train_X = numpy.asarray([3.3,4.4,5.5,6.71,6.93,4.168,9.779,6.182,7.59,2.167,7.042,10.791,5.313,7.997,5.654,9.27,3.1])\n",
    "train_Y = numpy.asarray([1.7,2.76,2.09,3.19,1.694,1.573,3.366,2.596,2.53,1.221,2.827,3.465,1.65,2.904,2.42,2.94,1.3])\n",
    "n_samples = train_X.shape[0]\n",
    "\n",
    "# tf Graph Input\n",
    "X = tf.placeholder(\"float\")\n",
    "Y = tf.placeholder(\"float\")\n",
    "\n",
    "# Create Model\n",
    "\n",
    "# Set model weights\n",
    "W = tf.Variable(rng.randn(), name=\"weight\")\n",
    "b = tf.Variable(rng.randn(), name=\"bias\")\n",
    "\n",
    "# Construct a linear model\n",
    "activation = tf.add(tf.mul(X, W), b)\n",
    "\n",
    "# Minimize the squared errors\n",
    "cost = tf.reduce_sum(tf.pow(activation-Y, 2))/(2*n_samples) #L2 loss\n",
    "optimizer = tf.train.GradientDescentOptimizer(learning_rate).minimize(cost) #Gradient descent\n",
    "\n",
    "# Initializing the variables\n",
    "init = tf.initialize_all_variables()\n",
    "\n",
    "# Launch the graph\n",
    "with tf.Session() as sess:\n",
    "    sess.run(init)\n",
    "\n",
    "    # Fit all training data\n",
    "    for epoch in range(training_epochs):\n",
    "        for (x, y) in zip(train_X, train_Y):\n",
    "            sess.run(optimizer, feed_dict={X: x, Y: y})\n",
    "\n",
    "        #Display logs per epoch step\n",
    "        if epoch % display_step == 0:\n",
    "            print \"Epoch:\", '%04d' % (epoch+1), \"cost=\", \"{:.9f}\".format(sess.run(cost, feed_dict={X: train_X, Y:train_Y})), \\\n",
    "                \"W=\", sess.run(W), \"b=\", sess.run(b)\n",
    "\n",
    "    print \"Optimization Finished!\"\n",
    "    print \"cost=\", sess.run(cost, feed_dict={X: train_X, Y: train_Y}), \"W=\", sess.run(W), \"b=\", sess.run(b)\n",
    "\n",
    "    #Graphic display\n",
    "    plt.plot(train_X, train_Y, 'ro', label='Original data')\n",
    "    plt.plot(train_X, sess.run(W) * train_X + sess.run(b), label='Fitted line')\n",
    "    plt.legend()\n",
    "    plt.show()"
   ]
  },
  {
   "cell_type": "code",
   "execution_count": 15,
   "metadata": {
    "collapsed": false
   },
   "outputs": [
    {
     "name": "stdout",
     "output_type": "stream",
     "text": [
      "Succesfully downloaded train-images-idx3-ubyte.gz 9912422 bytes.\n",
      "Extracting MNIST_data/train-images-idx3-ubyte.gz\n",
      "Succesfully downloaded train-labels-idx1-ubyte.gz 28881 bytes.\n",
      "Extracting MNIST_data/train-labels-idx1-ubyte.gz\n",
      "Succesfully downloaded t10k-images-idx3-ubyte.gz 1648877 bytes.\n",
      "Extracting MNIST_data/t10k-images-idx3-ubyte.gz\n",
      "Succesfully downloaded t10k-labels-idx1-ubyte.gz 4542 bytes.\n",
      "Extracting MNIST_data/t10k-labels-idx1-ubyte.gz\n",
      "0 0.8839\n",
      "1 0.8966\n",
      "2 0.9029\n",
      "3 0.9076\n",
      "4 0.9103\n",
      "5 0.9108\n",
      "6 0.9121\n",
      "7 0.9134\n",
      "8 0.9152\n",
      "9 0.9154\n",
      "10 0.9163\n",
      "11 0.9168\n",
      "12 0.917\n",
      "13 0.9171\n",
      "14 0.9174\n",
      "15 0.9177\n",
      "16 0.9183\n",
      "17 0.9187\n",
      "18 0.919\n",
      "19 0.9195\n",
      "20 0.9197\n",
      "21 0.9198\n",
      "22 0.9201\n",
      "23 0.9204\n",
      "24 0.9203\n",
      "25 0.9206\n",
      "26 0.9207\n",
      "27 0.9209\n",
      "28 0.921\n",
      "29 0.9214\n",
      "30 0.9216\n",
      "31 0.9219\n",
      "32 0.9217\n",
      "33 0.9215\n",
      "34 0.9214\n",
      "35 0.9215\n",
      "36 0.9215\n",
      "37 0.9216\n",
      "38 0.922\n",
      "39 0.922\n",
      "40 0.922\n",
      "41 0.9217\n",
      "42 0.9217\n",
      "43 0.9219\n",
      "44 0.9221\n",
      "45 0.9219\n",
      "46 0.9219\n",
      "47 0.922\n",
      "48 0.922\n",
      "49 0.9218\n",
      "50 0.9217\n",
      "51 0.9219\n",
      "52 0.9221\n",
      "53 0.9224\n",
      "54 0.9226\n",
      "55 0.9226\n",
      "56 0.9225\n",
      "57 0.9225\n",
      "58 0.9228\n",
      "59 0.9229\n",
      "60 0.9229\n",
      "61 0.9231\n",
      "62 0.9232\n",
      "63 0.9232\n",
      "64 0.9234\n",
      "65 0.9232\n",
      "66 0.9233\n",
      "67 0.9235\n",
      "68 0.9235\n",
      "69 0.9235\n",
      "70 0.9234\n",
      "71 0.9233\n",
      "72 0.9233\n",
      "73 0.9234\n",
      "74 0.9236\n",
      "75 0.9237\n",
      "76 0.9237\n",
      "77 0.9236\n",
      "78 0.9236\n",
      "79 0.9235\n",
      "80 0.9234\n",
      "81 0.9236\n",
      "82 0.9237\n",
      "83 0.9237\n",
      "84 0.9236\n",
      "85 0.9236\n",
      "86 0.9236\n",
      "87 0.9237\n",
      "88 0.9237\n",
      "89 0.9237\n",
      "90 0.9237\n",
      "91 0.9238\n",
      "92 0.9237\n",
      "93 0.9235\n",
      "94 0.9234\n",
      "95 0.9233\n",
      "96 0.9235\n",
      "97 0.9234\n",
      "98 0.9234\n",
      "99 0.9235\n"
     ]
    }
   ],
   "source": [
    "import tensorflow as tf\n",
    "import numpy as np\n",
    "import input_data\n",
    "\n",
    "\n",
    "def init_weights(shape):\n",
    "    return tf.Variable(tf.random_normal(shape, stddev=0.01))\n",
    "\n",
    "\n",
    "def model(X, w):\n",
    "    return tf.matmul(X, w) # notice we use the same model as linear regression, this is because there is a baked in cost function which performs softmax and cross entropy\n",
    "\n",
    "\n",
    "mnist = input_data.read_data_sets(\"MNIST_data/\", one_hot=True)\n",
    "trX, trY, teX, teY = mnist.train.images, mnist.train.labels, mnist.test.images, mnist.test.labels\n",
    "\n",
    "X = tf.placeholder(\"float\", [None, 784]) # create symbolic variables\n",
    "Y = tf.placeholder(\"float\", [None, 10])\n",
    "\n",
    "w = init_weights([784, 10]) # like in linear regression, we need a shared variable weight matrix for logistic regression\n",
    "\n",
    "py_x = model(X, w)\n",
    "\n",
    "cost = tf.reduce_mean(tf.nn.softmax_cross_entropy_with_logits(py_x, Y)) # compute mean cross entropy (softmax is applied internally)\n",
    "train_op = tf.train.GradientDescentOptimizer(0.05).minimize(cost) # construct optimizer\n",
    "predict_op = tf.argmax(py_x, 1) # at predict time, evaluate the argmax of the logistic regression\n",
    "\n",
    "sess = tf.Session()\n",
    "init = tf.initialize_all_variables()\n",
    "sess.run(init)\n",
    "\n",
    "for i in range(100):\n",
    "    for start, end in zip(range(0, len(trX), 128), range(128, len(trX), 128)):\n",
    "        sess.run(train_op, feed_dict={X: trX[start:end], Y: trY[start:end]})\n",
    "    print i, np.mean(np.argmax(teY, axis=1) ==\n",
    "                     sess.run(predict_op, feed_dict={X: teX, Y: teY}))"
   ]
  },
  {
   "cell_type": "markdown",
   "metadata": {},
   "source": [
    "## Net"
   ]
  },
  {
   "cell_type": "code",
   "execution_count": 16,
   "metadata": {
    "collapsed": false
   },
   "outputs": [
    {
     "name": "stdout",
     "output_type": "stream",
     "text": [
      "Extracting MNIST_data/train-images-idx3-ubyte.gz\n",
      "Extracting MNIST_data/train-labels-idx1-ubyte.gz\n",
      "Extracting MNIST_data/t10k-images-idx3-ubyte.gz\n",
      "Extracting MNIST_data/t10k-labels-idx1-ubyte.gz\n",
      "0 0.6976\n",
      "1 0.8232\n",
      "2 0.8617\n",
      "3 0.8802\n",
      "4 0.888\n",
      "5 0.8939\n",
      "6 0.8977\n",
      "7 0.9005\n",
      "8 0.9037\n",
      "9 0.906\n",
      "10 0.9079\n",
      "11 0.9096\n",
      "12 0.9122\n",
      "13 0.9126\n",
      "14 0.9137\n",
      "15 0.915\n",
      "16 0.9154\n",
      "17 0.9167\n",
      "18 0.9176\n",
      "19 0.9179\n",
      "20 0.9186\n",
      "21 0.9192\n",
      "22 0.9195\n",
      "23 0.9197\n",
      "24 0.9203\n",
      "25 0.9207\n",
      "26 0.9211\n",
      "27 0.9216\n",
      "28 0.922\n",
      "29 0.9225\n",
      "30 0.9227\n",
      "31 0.9233\n",
      "32 0.9239\n",
      "33 0.9242\n",
      "34 0.925\n",
      "35 0.9257\n",
      "36 0.9261\n",
      "37 0.9263\n",
      "38 0.9268\n",
      "39 0.927\n",
      "40 0.9274\n",
      "41 0.9276\n",
      "42 0.928\n",
      "43 0.9281\n",
      "44 0.9288\n",
      "45 0.9295\n",
      "46 0.93\n",
      "47 0.931\n",
      "48 0.9316\n",
      "49 0.9317\n",
      "50 0.9323\n",
      "51 0.9334\n",
      "52 0.934\n",
      "53 0.9347\n",
      "54 0.9355\n",
      "55 0.9361\n",
      "56 0.9372\n",
      "57 0.9379\n",
      "58 0.9383\n",
      "59 0.9388\n",
      "60 0.9396\n",
      "61 0.94\n",
      "62 0.9403\n",
      "63 0.9404\n",
      "64 0.9409\n",
      "65 0.9411\n",
      "66 0.9412\n",
      "67 0.9417\n",
      "68 0.9423\n",
      "69 0.9425\n",
      "70 0.9431\n",
      "71 0.9437\n",
      "72 0.9442\n",
      "73 0.9451\n",
      "74 0.9456\n",
      "75 0.946\n",
      "76 0.9466\n",
      "77 0.9472\n",
      "78 0.9479\n",
      "79 0.9488\n",
      "80 0.9493\n",
      "81 0.9497\n",
      "82 0.9499\n",
      "83 0.9503\n",
      "84 0.9506\n",
      "85 0.951\n",
      "86 0.9511\n",
      "87 0.9518\n",
      "88 0.9523\n",
      "89 0.9531\n",
      "90 0.9532\n",
      "91 0.9537\n",
      "92 0.9542\n",
      "93 0.9549\n",
      "94 0.955\n",
      "95 0.955\n",
      "96 0.9551\n",
      "97 0.9552\n",
      "98 0.9552\n",
      "99 0.9552\n"
     ]
    }
   ],
   "source": [
    "import tensorflow as tf\n",
    "import numpy as np\n",
    "import input_data\n",
    "\n",
    "\n",
    "def init_weights(shape):\n",
    "    return tf.Variable(tf.random_normal(shape, stddev=0.01))\n",
    "\n",
    "\n",
    "def model(X, w_h, w_o):\n",
    "    h = tf.nn.sigmoid(tf.matmul(X, w_h)) # this is a basic mlp, think 2 stacked logistic regressions\n",
    "    return tf.matmul(h, w_o) # note that we dont take the softmax at the end because our cost fn does that for us\n",
    "\n",
    "\n",
    "mnist = input_data.read_data_sets(\"MNIST_data/\", one_hot=True)\n",
    "trX, trY, teX, teY = mnist.train.images, mnist.train.labels, mnist.test.images, mnist.test.labels\n",
    "\n",
    "X = tf.placeholder(\"float\", [None, 784])\n",
    "Y = tf.placeholder(\"float\", [None, 10])\n",
    "\n",
    "w_h = init_weights([784, 625]) # create symbolic variables\n",
    "w_o = init_weights([625, 10])\n",
    "\n",
    "py_x = model(X, w_h, w_o)\n",
    "\n",
    "cost = tf.reduce_mean(tf.nn.softmax_cross_entropy_with_logits(py_x, Y)) # compute costs\n",
    "train_op = tf.train.GradientDescentOptimizer(0.05).minimize(cost) # construct an optimizer\n",
    "predict_op = tf.argmax(py_x, 1)\n",
    "\n",
    "sess = tf.Session()\n",
    "init = tf.initialize_all_variables()\n",
    "sess.run(init)\n",
    "\n",
    "for i in range(100):\n",
    "    for start, end in zip(range(0, len(trX), 128), range(128, len(trX), 128)):\n",
    "        sess.run(train_op, feed_dict={X: trX[start:end], Y: trY[start:end]})\n",
    "    print i, np.mean(np.argmax(teY, axis=1) ==\n",
    "                     sess.run(predict_op, feed_dict={X: teX, Y: teY}))"
   ]
  },
  {
   "cell_type": "markdown",
   "metadata": {},
   "source": [
    "## Modern Net"
   ]
  },
  {
   "cell_type": "code",
   "execution_count": 17,
   "metadata": {
    "collapsed": false
   },
   "outputs": [
    {
     "name": "stdout",
     "output_type": "stream",
     "text": [
      "Extracting MNIST_data/train-images-idx3-ubyte.gz\n",
      "Extracting MNIST_data/train-labels-idx1-ubyte.gz\n",
      "Extracting MNIST_data/t10k-images-idx3-ubyte.gz\n",
      "Extracting MNIST_data/t10k-labels-idx1-ubyte.gz\n",
      "0 0.9398\n",
      "1 0.965\n",
      "2 0.9698\n",
      "3 0.973\n",
      "4 0.9728\n",
      "5 0.9773\n",
      "6 0.9782\n",
      "7 0.9786\n",
      "8 0.9786\n",
      "9 0.9783\n",
      "10 0.9796\n",
      "11 0.9807\n",
      "12 0.9789\n",
      "13 0.981\n",
      "14 0.9835\n",
      "15 0.9808\n",
      "16 0.9806\n",
      "17 0.9814\n",
      "18 0.9816\n",
      "19 0.9821\n",
      "20 0.983\n",
      "21 0.9825\n",
      "22 0.9809\n",
      "23 0.9814\n",
      "24 0.9829\n",
      "25 0.9854\n",
      "26 0.9842\n",
      "27 0.9835\n",
      "28 0.984\n",
      "29 0.9839\n",
      "30 0.9838\n",
      "31 0.9834\n",
      "32 0.9837\n",
      "33 0.9844\n",
      "34 0.984\n",
      "35 0.9835\n",
      "36 0.9845\n",
      "37 0.9842\n",
      "38 0.9834\n",
      "39 0.9843\n",
      "40 0.9838\n",
      "41 0.9844\n",
      "42 0.9837\n",
      "43 0.9852\n",
      "44 0.9847\n",
      "45 0.9844\n",
      "46 0.9838\n",
      "47 0.983\n",
      "48 0.9846\n",
      "49 0.9846\n",
      "50 0.9846\n",
      "51 0.9837\n",
      "52 0.9855\n",
      "53 0.9858\n",
      "54 0.985\n",
      "55 0.985\n",
      "56 0.9848\n",
      "57 0.9851\n",
      "58 0.9848\n",
      "59 0.9846\n",
      "60 0.984\n",
      "61 0.9834\n",
      "62 0.9851\n",
      "63 0.9845\n",
      "64 0.9848\n",
      "65 0.9854\n",
      "66 0.9844\n",
      "67 0.9842\n",
      "68 0.9852\n",
      "69 0.9841\n",
      "70 0.9852\n",
      "71 0.9857\n",
      "72 0.9841\n",
      "73 0.9844\n",
      "74 0.9853\n",
      "75 0.9847\n",
      "76 0.9862\n",
      "77 0.9858\n",
      "78 0.9863\n",
      "79 0.9843\n",
      "80 0.9857\n",
      "81 0.9863\n",
      "82 0.9855\n",
      "83 0.9859\n",
      "84 0.9857\n",
      "85 0.9852\n",
      "86 0.9856\n",
      "87 0.9846\n",
      "88 0.9856\n",
      "89 0.9842\n",
      "90 0.984\n",
      "91 0.9844\n",
      "92 0.9855\n",
      "93 0.9836\n",
      "94 0.9849\n",
      "95 0.9854\n",
      "96 0.9846\n",
      "97 0.9838\n",
      "98 0.9854\n",
      "99 0.9843\n"
     ]
    }
   ],
   "source": [
    "import tensorflow as tf\n",
    "import numpy as np\n",
    "import input_data\n",
    "\n",
    "\n",
    "def init_weights(shape):\n",
    "    return tf.Variable(tf.random_normal(shape, stddev=0.01))\n",
    "\n",
    "\n",
    "def model(X, w_h, w_h2, w_o, p_drop_input, p_drop_hidden):\n",
    "    # this network is the same as the previous one except with an extra hidden layer + dropout\n",
    "    X = tf.nn.dropout(X, p_drop_input)\n",
    "    h = tf.nn.relu(tf.matmul(X, w_h))\n",
    "\n",
    "    h = tf.nn.dropout(h, p_drop_hidden)\n",
    "    h2 = tf.nn.relu(tf.matmul(h, w_h2))\n",
    "\n",
    "    h2 = tf.nn.dropout(h2, p_drop_hidden)\n",
    "\n",
    "    return tf.matmul(h2, w_o)\n",
    "\n",
    "\n",
    "mnist = input_data.read_data_sets(\"MNIST_data/\", one_hot=True)\n",
    "trX, trY, teX, teY = mnist.train.images, mnist.train.labels, mnist.test.images, mnist.test.labels\n",
    "\n",
    "X = tf.placeholder(\"float\", [None, 784])\n",
    "Y = tf.placeholder(\"float\", [None, 10])\n",
    "\n",
    "w_h = init_weights([784, 625])\n",
    "w_h2 = init_weights([625, 625])\n",
    "w_o = init_weights([625, 10])\n",
    "\n",
    "p_keep_input = tf.placeholder(\"float\")\n",
    "p_keep_hidden = tf.placeholder(\"float\")\n",
    "py_x = model(X, w_h, w_h2, w_o, p_keep_input, p_keep_hidden)\n",
    "\n",
    "cost = tf.reduce_mean(tf.nn.softmax_cross_entropy_with_logits(py_x, Y))\n",
    "train_op = tf.train.RMSPropOptimizer(0.001, 0.9).minimize(cost)\n",
    "predict_op = tf.argmax(py_x, 1)\n",
    "\n",
    "sess = tf.Session()\n",
    "init = tf.initialize_all_variables()\n",
    "sess.run(init)\n",
    "\n",
    "for i in range(100):\n",
    "    for start, end in zip(range(0, len(trX), 128), range(128, len(trX), 128)):\n",
    "        sess.run(train_op, feed_dict={X: trX[start:end], Y: trY[start:end],\n",
    "                                      p_keep_input: 0.8, p_keep_hidden: 0.5})\n",
    "    print i, np.mean(np.argmax(teY, axis=1) ==\n",
    "                     sess.run(predict_op, feed_dict={X: teX, Y: teY,\n",
    "                                                     p_keep_input: 1.0,\n",
    "                                                     p_keep_hidden: 1.0}))"
   ]
  },
  {
   "cell_type": "markdown",
   "metadata": {},
   "source": [
    "## Convolutional Net"
   ]
  },
  {
   "cell_type": "code",
   "execution_count": 49,
   "metadata": {
    "collapsed": false
   },
   "outputs": [
    {
     "name": "stdout",
     "output_type": "stream",
     "text": [
      "Extracting MNIST_data/train-images-idx3-ubyte.gz\n",
      "Extracting MNIST_data/train-labels-idx1-ubyte.gz\n",
      "Extracting MNIST_data/t10k-images-idx3-ubyte.gz\n",
      "Extracting MNIST_data/t10k-labels-idx1-ubyte.gz\n",
      "0 0.9609375\n",
      "1 0.97265625\n",
      "2 0.96875\n",
      "3 0.99609375\n",
      "4 0.9921875\n",
      "5 1.0\n",
      "6 1.0\n",
      "7 0.9921875\n",
      "8 0.9921875\n",
      "9 0.99609375\n",
      "10 0.99609375\n",
      "11 0.98828125\n",
      "12 0.98828125\n",
      "13 0.9921875\n",
      "14 0.99609375\n",
      "15 0.9921875\n",
      "16 0.9921875\n",
      "17 1.0\n",
      "18 0.99609375\n",
      "19 0.99609375\n",
      "20 0.98828125\n",
      "21 1.0\n",
      "22 0.9921875\n",
      "23 0.98828125\n",
      "24 1.0\n"
     ]
    }
   ],
   "source": [
    "import tensorflow as tf\n",
    "import numpy as np\n",
    "import input_data\n",
    "\n",
    "\n",
    "def init_weights(shape):\n",
    "    return tf.Variable(tf.random_normal(shape, stddev=0.01))\n",
    "\n",
    "\n",
    "def model(X, w, w2, w3, w4, w_o, p_keep_conv, p_keep_hidden):\n",
    "    l1a = tf.nn.relu(tf.nn.conv2d(X, w, [1, 1, 1, 1], 'SAME'))\n",
    "    l1 = tf.nn.max_pool(l1a, ksize=[1, 2, 2, 1],\n",
    "                        strides=[1, 2, 2, 1], padding='SAME')\n",
    "    l1 = tf.nn.dropout(l1, p_keep_conv)\n",
    "\n",
    "    l2a = tf.nn.relu(tf.nn.conv2d(l1, w2, [1, 1, 1, 1], 'SAME'))\n",
    "    l2 = tf.nn.max_pool(l2a, ksize=[1, 2, 2, 1],\n",
    "                        strides=[1, 2, 2, 1], padding='SAME')\n",
    "    l2 = tf.nn.dropout(l2, p_keep_conv)\n",
    "\n",
    "    l3a = tf.nn.relu(tf.nn.conv2d(l2, w3, [1, 1, 1, 1], 'SAME'))\n",
    "    l3 = tf.nn.max_pool(l3a, ksize=[1, 2, 2, 1],\n",
    "                        strides=[1, 2, 2, 1], padding='SAME')\n",
    "    l3 = tf.reshape(l3, [-1, w4.get_shape().as_list()[0]])\n",
    "    l3 = tf.nn.dropout(l3, p_keep_conv)\n",
    "\n",
    "    l4 = tf.nn.relu(tf.matmul(l3, w4))\n",
    "    l4 = tf.nn.dropout(l4, p_keep_hidden)\n",
    "\n",
    "    pyx = tf.matmul(l4, w_o)\n",
    "    return pyx\n",
    "\n",
    "mnist = input_data.read_data_sets(\"MNIST_data/\", one_hot=True)\n",
    "trX, trY, teX, teY = mnist.train.images, mnist.train.labels, mnist.test.images, mnist.test.labels\n",
    "trX = trX.reshape(-1, 28, 28, 1)\n",
    "teX = teX.reshape(-1, 28, 28, 1)\n",
    "\n",
    "X = tf.placeholder(\"float\", [None, 28, 28, 1])\n",
    "Y = tf.placeholder(\"float\", [None, 10])\n",
    "\n",
    "w = init_weights([3, 3, 1, 32])\n",
    "w2 = init_weights([3, 3, 32, 64])\n",
    "w3 = init_weights([3, 3, 64, 128])\n",
    "w4 = init_weights([128 * 4 * 4, 625])\n",
    "w_o = init_weights([625, 10])\n",
    "\n",
    "p_keep_conv = tf.placeholder(\"float\")\n",
    "p_keep_hidden = tf.placeholder(\"float\")\n",
    "py_x = model(X, w, w2, w3, w4, w_o, p_keep_conv, p_keep_hidden)\n",
    "\n",
    "cost = tf.reduce_mean(tf.nn.softmax_cross_entropy_with_logits(py_x, Y))\n",
    "train_op = tf.train.RMSPropOptimizer(0.001, 0.9).minimize(cost)\n",
    "predict_op = tf.argmax(py_x, 1)\n",
    "\n",
    "sess = tf.Session()\n",
    "init = tf.initialize_all_variables()\n",
    "sess.run(init)\n",
    "\n",
    "for i in range(25):\n",
    "    for start, end in zip(range(0, len(trX), 128), range(128, len(trX), 128)):\n",
    "        sess.run(train_op, feed_dict={X: trX[start:end], Y: trY[start:end],\n",
    "                                      p_keep_conv: 0.8, p_keep_hidden: 0.5})\n",
    "    \n",
    "    test_indices = np.arange(len(teX)) # Get A Test Batch\n",
    "    np.random.shuffle(test_indices)\n",
    "    test_indices = test_indices[0:256]\n",
    "    \n",
    "    print i, np.mean(np.argmax(teY[test_indices], axis=1) ==\n",
    "                     sess.run(predict_op, feed_dict={X: teX[test_indices],\n",
    "                                                     Y: teY[test_indices],\n",
    "                                                     p_keep_conv: 1.0,\n",
    "                                                     p_keep_hidden: 1.0}))"
   ]
  },
  {
   "cell_type": "markdown",
   "metadata": {},
   "source": [
    "## Softmax Regression"
   ]
  },
  {
   "cell_type": "code",
   "execution_count": 37,
   "metadata": {
    "collapsed": true
   },
   "outputs": [],
   "source": [
    "%matplotlib inline\n",
    "import numpy as np\n",
    "import tensorflow as tf\n",
    "import matplotlib.pylab as plt\n",
    "\n",
    "plt.style.use('ggplot')\n",
    "plt.rcParams['figure.figsize'] = (12.6, 7)"
   ]
  },
  {
   "cell_type": "code",
   "execution_count": 38,
   "metadata": {
    "collapsed": false
   },
   "outputs": [
    {
     "data": {
      "image/png": "[encoded data removed]",
      "text/plain": [
       "<matplotlib.figure.Figure at 0x111053710>"
      ]
     },
     "metadata": {},
     "output_type": "display_data"
    }
   ],
   "source": [
    "# generate some synthetic data \n",
    "# modified version given in http://cs.stanford.edu/people/karpathy/cs231nfiles/minimal_net.html\n",
    "np.random.seed(0)\n",
    "N = 100 # number of points per class\n",
    "D = 2 # dimensionality\n",
    "K = 3 # number of classes\n",
    "X_data = np.zeros((N*K,D))\n",
    "y_data = np.zeros(N*K, dtype='uint8')\n",
    "for j in xrange(K):\n",
    "    ix = range(N*j,N*(j+1))\n",
    "    r = np.linspace(0.0,1,N)\n",
    "    t = np.linspace(j*4,(j+1)*4,N) + np.random.randn(N)*0.2 # theta\n",
    "    X_data[ix] = np.c_[r*np.sin(t), r*np.cos(t)]\n",
    "    y_data[ix] = j\n",
    "fig = plt.figure()\n",
    "plt.scatter(X_data[:, 0], X_data[:, 1], c=y_data, s=100, cmap=plt.cm.Spectral)\n",
    "plt.xlim([-1,1])\n",
    "plt.ylim([-1,1])\n",
    "plt.show()"
   ]
  },
  {
   "cell_type": "code",
   "execution_count": 39,
   "metadata": {
    "collapsed": false
   },
   "outputs": [
    {
     "name": "stdout",
     "output_type": "stream",
     "text": [
      "epoch: 0  cost: 1.089877\n",
      "epoch: 100  cost: 0.817562\n",
      "epoch: 200  cost: 0.786621\n",
      "epoch: 300  cost: 0.779160\n",
      "epoch: 400  cost: 0.776784\n",
      "epoch: 500  cost: 0.775917\n",
      "epoch: 600  cost: 0.775577\n",
      "epoch: 700  cost: 0.775437\n",
      "epoch: 800  cost: 0.775378\n",
      "epoch: 900  cost: 0.775353\n",
      "training set accuracy: 0.493333\n"
     ]
    },
    {
     "data": {
      "image/png": "[encoded data removed]",
      "text/plain": [
       "<matplotlib.figure.Figure at 0x11524ed10>"
      ]
     },
     "metadata": {},
     "output_type": "display_data"
    }
   ],
   "source": [
    "# creating placeholders for X and y\n",
    "X = tf.placeholder(\"float\", shape=[None, 2])\n",
    "y = tf.placeholder(\"float\", shape=[None, 3])\n",
    "\n",
    "one_hot = np.zeros((N*K, 3))\n",
    "one_hot[range(N*K), y_data] = 1\n",
    "\n",
    "epochs =  1000\n",
    "learning_rate = 0.001\n",
    "print_loss_in_steps = 100\n",
    "\n",
    "\n",
    "# creating model parameters\n",
    "W = tf.Variable(tf.zeros([2, 3]))\n",
    "b = tf.Variable(tf.zeros([3]))\n",
    "\n",
    "output = tf.nn.softmax(tf.matmul(X, W) +  b)\n",
    "loss = -tf.reduce_sum(y*tf.log(output))\n",
    "optimizer = tf.train.GradientDescentOptimizer(learning_rate).minimize(loss)\n",
    "\n",
    "with tf.Session() as session:\n",
    "    session.run(tf.initialize_all_variables())\n",
    "    for i in range(epochs):\n",
    "        optimizer.run(feed_dict={X:X_data, y:one_hot})\n",
    "        cost = session.run(loss, feed_dict={X:X_data, y:one_hot})/(N*K)\n",
    "        if i % print_loss_in_steps == 0:\n",
    "            print \"epoch: %d  cost: %f\" %(i, cost)\n",
    "    correct_prediction = tf.equal(tf.argmax(output,1), tf.argmax(one_hot,1))\n",
    "    accuracy = tf.reduce_mean(tf.cast(correct_prediction, \"float\"))\n",
    "    print \"training set accuracy: %f\" %(accuracy.eval({X: X_data, y: one_hot}))\n",
    "    \n",
    "    \n",
    "    h = 0.02\n",
    "    x_min, x_max = X_data[:, 0].min() - 1, X_data[:, 0].max() + 1\n",
    "    y_min, y_max = X_data[:, 1].min() - 1, X_data[:, 1].max() + 1\n",
    "    xx, yy = np.meshgrid(np.arange(x_min, x_max, h),\n",
    "                     np.arange(y_min, y_max, h))\n",
    "    Z = np.dot(np.c_[xx.ravel(), yy.ravel()], session.run(W)) + session.run(b)\n",
    "    Z = np.argmax(Z, axis=1)\n",
    "    Z = Z.reshape(xx.shape)\n",
    "    fig = plt.figure()\n",
    "    plt.contourf(xx, yy, Z, cmap=plt.cm.Spectral, alpha=0.6)\n",
    "    plt.scatter(X_data[:, 0], X_data[:, 1], c=y_data, s=100, cmap=plt.cm.Spectral)\n",
    "    plt.xlim(xx.min(), xx.max())\n",
    "    plt.ylim(yy.min(), yy.max())"
   ]
  },
  {
   "cell_type": "markdown",
   "metadata": {},
   "source": [
    "## Shallow neural network"
   ]
  },
  {
   "cell_type": "code",
   "execution_count": 40,
   "metadata": {
    "collapsed": false
   },
   "outputs": [
    {
     "name": "stdout",
     "output_type": "stream",
     "text": [
      "epoch: 0  cost: 1.637934\n",
      "epoch: 100  cost: 0.271688\n",
      "epoch: 200  cost: 0.211636\n",
      "epoch: 300  cost: 0.176947\n",
      "epoch: 400  cost: 0.153907\n",
      "epoch: 500  cost: 0.137508\n",
      "epoch: 600  cost: 0.125150\n",
      "epoch: 700  cost: 0.115441\n",
      "epoch: 800  cost: 0.107521\n",
      "epoch: 900  cost: 0.100903\n",
      "training set accuracy: 0.980000\n"
     ]
    },
    {
     "data": {
      "image/png": "[encoded data removed]",
      "text/plain": [
       "<matplotlib.figure.Figure at 0x115524b50>"
      ]
     },
     "metadata": {},
     "output_type": "display_data"
    }
   ],
   "source": [
    "#creating placeholders for X and y\n",
    "X = tf.placeholder(\"float\", shape=[None, 2])\n",
    "y = tf.placeholder(\"float\", shape=[None, 3])\n",
    "\n",
    "one_hot_vector = np.zeros((N*K, 3))\n",
    "one_hot_vector[range(N*K), y_data] = 1\n",
    "\n",
    "epochs =  1000\n",
    "hidden_size = 50\n",
    "print_loss_in_steps = 100\n",
    "learning_rate = 0.001\n",
    "\n",
    "# creating model parameters\n",
    "W1 = tf.Variable(tf.random_normal([2, hidden_size]))\n",
    "b1 = tf.Variable(tf.zeros([hidden_size]))\n",
    "\n",
    "W2 = tf.Variable(tf.random_normal([hidden_size, 3]))\n",
    "b2 = tf.Variable(tf.zeros([3]))\n",
    "\n",
    "hidden = tf.nn.relu(tf.matmul(X, W1) + b1)\n",
    "output = tf.nn.softmax(tf.matmul(hidden, W2) +  b2)\n",
    "loss = -tf.reduce_sum(y*tf.log(output))\n",
    "optimizer = tf.train.GradientDescentOptimizer(learning_rate).minimize(loss)\n",
    "\n",
    "with tf.Session() as session:\n",
    "    session.run(tf.initialize_all_variables())\n",
    "    for i in range(epochs):\n",
    "        optimizer.run(feed_dict={X:X_data, y:one_hot_vector})\n",
    "        cost = session.run(loss, feed_dict={X:X_data, y:one_hot_vector})/(N*K)\n",
    "        if i % print_loss_in_steps == 0:\n",
    "            print \"epoch: %d  cost: %f\" %(i, cost)\n",
    "    \n",
    "    hidden = tf.nn.relu(tf.matmul(X, W1) + b1)\n",
    "    output = tf.matmul(hidden, W2) +  b2\n",
    "    correct_prediction = tf.equal(tf.argmax(output,1), tf.argmax(one_hot_vector,1))\n",
    "    accuracy = tf.reduce_mean(tf.cast(correct_prediction, \"float\"))\n",
    "    print \"training set accuracy: %f\" %(accuracy.eval({X: X_data, y: one_hot_vector}))\n",
    "    \n",
    "    \n",
    "    h = 0.02\n",
    "    x_min, x_max = X_data[:, 0].min() - 1, X_data[:, 0].max() + 1\n",
    "    y_min, y_max = X_data[:, 1].min() - 1, X_data[:, 1].max() + 1\n",
    "    xx, yy = np.meshgrid(np.arange(x_min, x_max, h),\n",
    "                     np.arange(y_min, y_max, h))\n",
    "    Z = np.dot(np.maximum(0, np.dot(np.c_[xx.ravel(), yy.ravel()], session.run(W1)) + \n",
    "                                    session.run(b1)), session.run(W2)) + session.run(b2)\n",
    "    Z = np.argmax(Z, axis=1)\n",
    "    Z = Z.reshape(xx.shape)\n",
    "    fig = plt.figure()\n",
    "    plt.contourf(xx, yy, Z, cmap=plt.cm.Spectral, alpha=0.6)\n",
    "    plt.scatter(X_data[:, 0], X_data[:, 1], c=y_data, s=100, cmap=plt.cm.Spectral)\n",
    "    plt.xlim(xx.min(), xx.max())\n",
    "    plt.ylim(yy.min(), yy.max())"
   ]
  },
  {
   "cell_type": "markdown",
   "metadata": {},
   "source": [
    "## K-means clustering"
   ]
  },
  {
   "cell_type": "code",
   "execution_count": 20,
   "metadata": {
    "collapsed": false
   },
   "outputs": [],
   "source": [
    "import matplotlib.pyplot as plt\n",
    "import numpy as np\n",
    "import pandas as pd\n",
    "import seaborn as sns\n",
    "import tensorflow as tf"
   ]
  },
  {
   "cell_type": "code",
   "execution_count": 21,
   "metadata": {
    "collapsed": true
   },
   "outputs": [],
   "source": [
    "%matplotlib inline"
   ]
  },
  {
   "cell_type": "markdown",
   "metadata": {},
   "source": [
    "Start off by defining some hyperparameters."
   ]
  },
  {
   "cell_type": "code",
   "execution_count": 22,
   "metadata": {
    "collapsed": true
   },
   "outputs": [],
   "source": [
    "num_vectors = 1000\n",
    "num_clusters = 3\n",
    "num_steps = 100"
   ]
  },
  {
   "cell_type": "markdown",
   "metadata": {
    "collapsed": true
   },
   "source": [
    "Generate some sample data as a list of random 2D vectors from two overlapping normal distributions"
   ]
  },
  {
   "cell_type": "code",
   "execution_count": 23,
   "metadata": {
    "collapsed": false
   },
   "outputs": [],
   "source": [
    "vector_values = []\n",
    "for i in xrange(num_vectors):\n",
    "    if np.random.random() > 0.5:\n",
    "        vector_values.append([np.random.normal(0.5, 0.6),\n",
    "                              np.random.normal(0.3, 0.9)])\n",
    "    else:\n",
    "        vector_values.append([np.random.normal(2.5, 0.4),\n",
    "                         np.random.normal(0.8, 0.5)])"
   ]
  },
  {
   "cell_type": "code",
   "execution_count": 24,
   "metadata": {
    "collapsed": false
   },
   "outputs": [
    {
     "data": {
      "text/plain": [
       "<seaborn.axisgrid.FacetGrid at 0x115242950>"
      ]
     },
     "execution_count": 24,
     "metadata": {},
     "output_type": "execute_result"
    },
    {
     "data": {
      "image/png": "[encoded data removed]",
      "text/plain": [
       "<matplotlib.figure.Figure at 0x115474650>"
      ]
     },
     "metadata": {},
     "output_type": "display_data"
    }
   ],
   "source": [
    "df = pd.DataFrame({\"x\": [v[0] for v in vector_values], \n",
    "                   \"y\": [v[1] for v in vector_values]})\n",
    "sns.lmplot(\"x\", \"y\", data=df, fit_reg=False, size=7)"
   ]
  },
  {
   "cell_type": "markdown",
   "metadata": {
    "collapsed": true
   },
   "source": [
    "Let's start building our k-means TensorFlow graph with a few simple operators:\n",
    "- Store our vector input values in a 2D tensor constant.\n",
    "- Randomly shuffle the input vectors and then slice off the first num_cluster vectors as a 2D tensor and store the result in a Variable."
   ]
  },
  {
   "cell_type": "code",
   "execution_count": 25,
   "metadata": {
    "collapsed": true
   },
   "outputs": [],
   "source": [
    "vectors = tf.constant(vector_values)\n",
    "centroids = tf.Variable(tf.slice(tf.random_shuffle(vectors), \n",
    "                                 [0,0],[num_clusters,-1]))"
   ]
  },
  {
   "cell_type": "markdown",
   "metadata": {},
   "source": [
    "Here's where things get a little more complicated. We extend both of our 2D tensors into 3 dimensions so that we can do an element-wise subtraction between them. This would be pretty straight-forward except that these two tensors have completely different sizes."
   ]
  },
  {
   "cell_type": "code",
   "execution_count": 26,
   "metadata": {
    "collapsed": false
   },
   "outputs": [
    {
     "name": "stdout",
     "output_type": "stream",
     "text": [
      "TensorShape([Dimension(1), Dimension(1000), Dimension(2)])\n",
      "TensorShape([Dimension(3), Dimension(1), Dimension(2)])\n"
     ]
    }
   ],
   "source": [
    "expanded_vectors = tf.expand_dims(vectors, 0)\n",
    "expanded_centroids = tf.expand_dims(centroids, 1)\n",
    "\n",
    "print expanded_vectors.get_shape()\n",
    "print expanded_centroids.get_shape()"
   ]
  },
  {
   "cell_type": "markdown",
   "metadata": {},
   "source": [
    "However, because of the shape broadcasting feature in Tensorflow, the tf.sub operators is still able to figure out how to do the element-wise subtraction between the two tensors. That allows us to calculate the squared Euclidian distances (no need to take the square-root) and determine the cluster assignments for every vector and centroid all at once."
   ]
  },
  {
   "cell_type": "code",
   "execution_count": 27,
   "metadata": {
    "collapsed": true
   },
   "outputs": [],
   "source": [
    "distances = tf.reduce_sum(\n",
    "  tf.square(tf.sub(expanded_vectors, expanded_centroids)), 2)\n",
    "assignments = tf.argmin(distances, 0)"
   ]
  },
  {
   "cell_type": "markdown",
   "metadata": {},
   "source": [
    "Once we have the cluster assignments, we can go back through the input vectors and gather all of the members of each cluster and average them together to calculate the new centroids for that cluster."
   ]
  },
  {
   "cell_type": "code",
   "execution_count": 28,
   "metadata": {
    "collapsed": true
   },
   "outputs": [],
   "source": [
    "means = tf.concat(0, [\n",
    "  tf.reduce_mean(\n",
    "      tf.gather(vectors, \n",
    "                tf.reshape(\n",
    "                  tf.where(\n",
    "                    tf.equal(assignments, c)\n",
    "                  ),[1,-1])\n",
    "               ),reduction_indices=[1])\n",
    "  for c in xrange(num_clusters)])"
   ]
  },
  {
   "cell_type": "markdown",
   "metadata": {},
   "source": [
    "Finally, we create an operator which assigns the means, which we just calculated, to the centroids variable so that the next time we run the graph it is using the updated centroids.\n",
    "\n",
    "We also create a operator to initialize all of our variable before we run the graph."
   ]
  },
  {
   "cell_type": "code",
   "execution_count": 29,
   "metadata": {
    "collapsed": true
   },
   "outputs": [],
   "source": [
    "update_centroids = tf.assign(centroids, means)\n",
    "init_op = tf.initialize_all_variables()"
   ]
  },
  {
   "cell_type": "markdown",
   "metadata": {},
   "source": [
    "Here's where we run our graph. For each step in num_steps, we update the centroids and fetch the values of those centroids as well as the cluster assignments for each of our input vectors. TensorFlow will figure out all of the dependencies so that all of the necessary operators in our graph will be evaluated in order to calculate the new centroids.\n",
    "After all the steps have completed, we display the coordinates of our final centroids."
   ]
  },
  {
   "cell_type": "code",
   "execution_count": 34,
   "metadata": {
    "collapsed": false
   },
   "outputs": [
    {
     "name": "stdout",
     "output_type": "stream",
     "text": [
      "centroids\n",
      "[[ 0.48565939 -0.46930566]\n",
      " [ 2.45395446  0.78782636]\n",
      " [ 0.44363374  0.98338723]]\n"
     ]
    }
   ],
   "source": [
    "with tf.Session() as sess:\n",
    "    sess.run(init_op)\n",
    "    for step in xrange(num_steps):\n",
    "        _, centroid_values, assignment_values = sess.run([update_centroids,\n",
    "                                                      centroids,\n",
    "                                                      assignments])\n",
    "    print \"centroids\"\n",
    "    print centroid_values"
   ]
  },
  {
   "cell_type": "code",
   "execution_count": 35,
   "metadata": {
    "collapsed": false
   },
   "outputs": [
    {
     "data": {
      "text/plain": [
       "<seaborn.axisgrid.FacetGrid at 0x1152c8a10>"
      ]
     },
     "execution_count": 35,
     "metadata": {},
     "output_type": "execute_result"
    },
    {
     "data": {
      "image/png": "[encoded data removed]",
      "text/plain": [
       "<matplotlib.figure.Figure at 0x1154f00d0>"
      ]
     },
     "metadata": {},
     "output_type": "display_data"
    }
   ],
   "source": [
    "data = {\"x\": [], \"y\": [], \"cluster\": []}\n",
    "for i in xrange(len(assignment_values)):\n",
    "    data[\"x\"].append(vector_values[i][0])\n",
    "    data[\"y\"].append(vector_values[i][1])\n",
    "    data[\"cluster\"].append(assignment_values[i])\n",
    "df = pd.DataFrame(data)\n",
    "sns.lmplot(\"x\", \"y\", data=df, \n",
    "           fit_reg=False, size=7, \n",
    "           hue=\"cluster\", legend=False)"
   ]
  },
  {
   "cell_type": "markdown",
   "metadata": {},
   "source": [
    "## Nearest Neighbors"
   ]
  },
  {
   "cell_type": "code",
   "execution_count": 41,
   "metadata": {
    "collapsed": false
   },
   "outputs": [
    {
     "name": "stdout",
     "output_type": "stream",
     "text": [
      "Succesfully downloaded train-images-idx3-ubyte.gz 9912422 bytes.\n",
      "Extracting /tmp/data/train-images-idx3-ubyte.gz\n",
      "Succesfully downloaded train-labels-idx1-ubyte.gz 28881 bytes.\n",
      "Extracting /tmp/data/train-labels-idx1-ubyte.gz\n",
      "Succesfully downloaded t10k-images-idx3-ubyte.gz 1648877 bytes.\n",
      "Extracting /tmp/data/t10k-images-idx3-ubyte.gz\n",
      "Succesfully downloaded t10k-labels-idx1-ubyte.gz 4542 bytes.\n",
      "Extracting /tmp/data/t10k-labels-idx1-ubyte.gz\n"
     ]
    }
   ],
   "source": [
    "# Import MINST data\n",
    "import input_data\n",
    "mnist = input_data.read_data_sets(\"/tmp/data/\", one_hot=True)"
   ]
  },
  {
   "cell_type": "code",
   "execution_count": 42,
   "metadata": {
    "collapsed": true
   },
   "outputs": [],
   "source": [
    "# In this example, we limit mnist data\n",
    "Xtr, Ytr = mnist.train.next_batch(5000) #5000 for training (nn candidates)\n",
    "Xte, Yte = mnist.test.next_batch(200) #200 for testing"
   ]
  },
  {
   "cell_type": "code",
   "execution_count": 43,
   "metadata": {
    "collapsed": true
   },
   "outputs": [],
   "source": [
    "# Reshape images to 1D\n",
    "Xtr = np.reshape(Xtr, newshape=(-1, 28*28))\n",
    "Xte = np.reshape(Xte, newshape=(-1, 28*28))"
   ]
  },
  {
   "cell_type": "code",
   "execution_count": 44,
   "metadata": {
    "collapsed": true
   },
   "outputs": [],
   "source": [
    "# tf Graph Input\n",
    "xtr = tf.placeholder(\"float\", [None, 784])\n",
    "xte = tf.placeholder(\"float\", [784])"
   ]
  },
  {
   "cell_type": "code",
   "execution_count": 45,
   "metadata": {
    "collapsed": true
   },
   "outputs": [],
   "source": [
    "# Nearest Neighbor calculation using L1 Distance\n",
    "# Calculate L1 Distance\n",
    "distance = tf.reduce_sum(tf.abs(tf.add(xtr, tf.neg(xte))), reduction_indices=1)\n",
    "# Predict: Get min distance index (Nearest neighbor)\n",
    "pred = tf.arg_min(distance, 0)\n",
    "\n",
    "accuracy = 0."
   ]
  },
  {
   "cell_type": "code",
   "execution_count": 46,
   "metadata": {
    "collapsed": true
   },
   "outputs": [],
   "source": [
    "# Initializing the variables\n",
    "init = tf.initialize_all_variables()"
   ]
  },
  {
   "cell_type": "code",
   "execution_count": 47,
   "metadata": {
    "collapsed": false
   },
   "outputs": [
    {
     "name": "stdout",
     "output_type": "stream",
     "text": [
      "Test 0 Prediction: 7 True Class: 7\n",
      "Test 1 Prediction: 2 True Class: 2\n",
      "Test 2 Prediction: 1 True Class: 1\n",
      "Test 3 Prediction: 0 True Class: 0\n",
      "Test 4 Prediction: 4 True Class: 4\n",
      "Test 5 Prediction: 1 True Class: 1\n",
      "Test 6 Prediction: 4 True Class: 4\n",
      "Test 7 Prediction: 9 True Class: 9\n",
      "Test 8 Prediction: 8 True Class: 5\n",
      "Test 9 Prediction: 9 True Class: 9\n",
      "Test 10 Prediction: 0 True Class: 0\n",
      "Test 11 Prediction: 0 True Class: 6\n",
      "Test 12 Prediction: 9 True Class: 9\n",
      "Test 13 Prediction: 0 True Class: 0\n",
      "Test 14 Prediction: 1 True Class: 1\n",
      "Test 15 Prediction: 5 True Class: 5\n",
      "Test 16 Prediction: 4 True Class: 9\n",
      "Test 17 Prediction: 7 True Class: 7\n",
      "Test 18 Prediction: 3 True Class: 3\n",
      "Test 19 Prediction: 4 True Class: 4\n",
      "Test 20 Prediction: 9 True Class: 9\n",
      "Test 21 Prediction: 6 True Class: 6\n",
      "Test 22 Prediction: 6 True Class: 6\n",
      "Test 23 Prediction: 5 True Class: 5\n",
      "Test 24 Prediction: 4 True Class: 4\n",
      "Test 25 Prediction: 0 True Class: 0\n",
      "Test 26 Prediction: 7 True Class: 7\n",
      "Test 27 Prediction: 4 True Class: 4\n",
      "Test 28 Prediction: 0 True Class: 0\n",
      "Test 29 Prediction: 1 True Class: 1\n",
      "Test 30 Prediction: 3 True Class: 3\n",
      "Test 31 Prediction: 1 True Class: 1\n",
      "Test 32 Prediction: 3 True Class: 3\n",
      "Test 33 Prediction: 4 True Class: 4\n",
      "Test 34 Prediction: 7 True Class: 7\n",
      "Test 35 Prediction: 2 True Class: 2\n",
      "Test 36 Prediction: 7 True Class: 7\n",
      "Test 37 Prediction: 1 True Class: 1\n",
      "Test 38 Prediction: 2 True Class: 2\n",
      "Test 39 Prediction: 1 True Class: 1\n",
      "Test 40 Prediction: 1 True Class: 1\n",
      "Test 41 Prediction: 7 True Class: 7\n",
      "Test 42 Prediction: 4 True Class: 4\n",
      "Test 43 Prediction: 1 True Class: 2\n",
      "Test 44 Prediction: 3 True Class: 3\n",
      "Test 45 Prediction: 5 True Class: 5\n",
      "Test 46 Prediction: 1 True Class: 1\n",
      "Test 47 Prediction: 2 True Class: 2\n",
      "Test 48 Prediction: 4 True Class: 4\n",
      "Test 49 Prediction: 4 True Class: 4\n",
      "Test 50 Prediction: 6 True Class: 6\n",
      "Test 51 Prediction: 3 True Class: 3\n",
      "Test 52 Prediction: 5 True Class: 5\n",
      "Test 53 Prediction: 5 True Class: 5\n",
      "Test 54 Prediction: 6 True Class: 6\n",
      "Test 55 Prediction: 0 True Class: 0\n",
      "Test 56 Prediction: 4 True Class: 4\n",
      "Test 57 Prediction: 1 True Class: 1\n",
      "Test 58 Prediction: 9 True Class: 9\n",
      "Test 59 Prediction: 5 True Class: 5\n",
      "Test 60 Prediction: 7 True Class: 7\n",
      "Test 61 Prediction: 8 True Class: 8\n",
      "Test 62 Prediction: 9 True Class: 9\n",
      "Test 63 Prediction: 3 True Class: 3\n",
      "Test 64 Prediction: 7 True Class: 7\n",
      "Test 65 Prediction: 4 True Class: 4\n",
      "Test 66 Prediction: 6 True Class: 6\n",
      "Test 67 Prediction: 4 True Class: 4\n",
      "Test 68 Prediction: 3 True Class: 3\n",
      "Test 69 Prediction: 0 True Class: 0\n",
      "Test 70 Prediction: 7 True Class: 7\n",
      "Test 71 Prediction: 0 True Class: 0\n",
      "Test 72 Prediction: 2 True Class: 2\n",
      "Test 73 Prediction: 7 True Class: 9\n",
      "Test 74 Prediction: 1 True Class: 1\n",
      "Test 75 Prediction: 7 True Class: 7\n",
      "Test 76 Prediction: 3 True Class: 3\n",
      "Test 77 Prediction: 7 True Class: 2\n",
      "Test 78 Prediction: 9 True Class: 9\n",
      "Test 79 Prediction: 7 True Class: 7\n",
      "Test 80 Prediction: 7 True Class: 7\n",
      "Test 81 Prediction: 6 True Class: 6\n",
      "Test 82 Prediction: 2 True Class: 2\n",
      "Test 83 Prediction: 7 True Class: 7\n",
      "Test 84 Prediction: 8 True Class: 8\n",
      "Test 85 Prediction: 4 True Class: 4\n",
      "Test 86 Prediction: 7 True Class: 7\n",
      "Test 87 Prediction: 3 True Class: 3\n",
      "Test 88 Prediction: 6 True Class: 6\n",
      "Test 89 Prediction: 1 True Class: 1\n",
      "Test 90 Prediction: 3 True Class: 3\n",
      "Test 91 Prediction: 6 True Class: 6\n",
      "Test 92 Prediction: 9 True Class: 9\n",
      "Test 93 Prediction: 3 True Class: 3\n",
      "Test 94 Prediction: 1 True Class: 1\n",
      "Test 95 Prediction: 4 True Class: 4\n",
      "Test 96 Prediction: 1 True Class: 1\n",
      "Test 97 Prediction: 7 True Class: 7\n",
      "Test 98 Prediction: 6 True Class: 6\n",
      "Test 99 Prediction: 9 True Class: 9\n",
      "Test 100 Prediction: 6 True Class: 6\n",
      "Test 101 Prediction: 0 True Class: 0\n",
      "Test 102 Prediction: 5 True Class: 5\n",
      "Test 103 Prediction: 4 True Class: 4\n",
      "Test 104 Prediction: 9 True Class: 9\n",
      "Test 105 Prediction: 9 True Class: 9\n",
      "Test 106 Prediction: 2 True Class: 2\n",
      "Test 107 Prediction: 1 True Class: 1\n",
      "Test 108 Prediction: 9 True Class: 9\n",
      "Test 109 Prediction: 4 True Class: 4\n",
      "Test 110 Prediction: 8 True Class: 8\n",
      "Test 111 Prediction: 7 True Class: 7\n",
      "Test 112 Prediction: 3 True Class: 3\n",
      "Test 113 Prediction: 9 True Class: 9\n",
      "Test 114 Prediction: 7 True Class: 7\n",
      "Test 115 Prediction: 9 True Class: 4\n",
      "Test 116 Prediction: 9 True Class: 4\n",
      "Test 117 Prediction: 4 True Class: 4\n",
      "Test 118 Prediction: 9 True Class: 9\n",
      "Test 119 Prediction: 7 True Class: 2\n",
      "Test 120 Prediction: 5 True Class: 5\n",
      "Test 121 Prediction: 4 True Class: 4\n",
      "Test 122 Prediction: 7 True Class: 7\n",
      "Test 123 Prediction: 6 True Class: 6\n",
      "Test 124 Prediction: 7 True Class: 7\n",
      "Test 125 Prediction: 9 True Class: 9\n",
      "Test 126 Prediction: 0 True Class: 0\n",
      "Test 127 Prediction: 5 True Class: 5\n",
      "Test 128 Prediction: 8 True Class: 8\n",
      "Test 129 Prediction: 5 True Class: 5\n",
      "Test 130 Prediction: 6 True Class: 6\n",
      "Test 131 Prediction: 6 True Class: 6\n",
      "Test 132 Prediction: 5 True Class: 5\n",
      "Test 133 Prediction: 7 True Class: 7\n",
      "Test 134 Prediction: 8 True Class: 8\n",
      "Test 135 Prediction: 1 True Class: 1\n",
      "Test 136 Prediction: 0 True Class: 0\n",
      "Test 137 Prediction: 1 True Class: 1\n",
      "Test 138 Prediction: 6 True Class: 6\n",
      "Test 139 Prediction: 4 True Class: 4\n",
      "Test 140 Prediction: 6 True Class: 6\n",
      "Test 141 Prediction: 7 True Class: 7\n",
      "Test 142 Prediction: 2 True Class: 3\n",
      "Test 143 Prediction: 1 True Class: 1\n",
      "Test 144 Prediction: 7 True Class: 7\n",
      "Test 145 Prediction: 1 True Class: 1\n",
      "Test 146 Prediction: 8 True Class: 8\n",
      "Test 147 Prediction: 2 True Class: 2\n",
      "Test 148 Prediction: 0 True Class: 0\n",
      "Test 149 Prediction: 1 True Class: 2\n",
      "Test 150 Prediction: 9 True Class: 9\n",
      "Test 151 Prediction: 9 True Class: 9\n",
      "Test 152 Prediction: 5 True Class: 5\n",
      "Test 153 Prediction: 5 True Class: 5\n",
      "Test 154 Prediction: 1 True Class: 1\n",
      "Test 155 Prediction: 5 True Class: 5\n",
      "Test 156 Prediction: 6 True Class: 6\n",
      "Test 157 Prediction: 0 True Class: 0\n",
      "Test 158 Prediction: 3 True Class: 3\n",
      "Test 159 Prediction: 4 True Class: 4\n",
      "Test 160 Prediction: 4 True Class: 4\n",
      "Test 161 Prediction: 6 True Class: 6\n",
      "Test 162 Prediction: 5 True Class: 5\n",
      "Test 163 Prediction: 4 True Class: 4\n",
      "Test 164 Prediction: 6 True Class: 6\n",
      "Test 165 Prediction: 5 True Class: 5\n",
      "Test 166 Prediction: 4 True Class: 4\n",
      "Test 167 Prediction: 5 True Class: 5\n",
      "Test 168 Prediction: 1 True Class: 1\n",
      "Test 169 Prediction: 4 True Class: 4\n",
      "Test 170 Prediction: 9 True Class: 4\n",
      "Test 171 Prediction: 7 True Class: 7\n",
      "Test 172 Prediction: 2 True Class: 2\n",
      "Test 173 Prediction: 3 True Class: 3\n",
      "Test 174 Prediction: 2 True Class: 2\n",
      "Test 175 Prediction: 1 True Class: 7\n",
      "Test 176 Prediction: 1 True Class: 1\n",
      "Test 177 Prediction: 8 True Class: 8\n",
      "Test 178 Prediction: 1 True Class: 1\n",
      "Test 179 Prediction: 8 True Class: 8\n",
      "Test 180 Prediction: 1 True Class: 1\n",
      "Test 181 Prediction: 8 True Class: 8\n",
      "Test 182 Prediction: 5 True Class: 5\n",
      "Test 183 Prediction: 0 True Class: 0\n",
      "Test 184 Prediction: 2 True Class: 8\n",
      "Test 185 Prediction: 9 True Class: 9\n",
      "Test 186 Prediction: 2 True Class: 2\n",
      "Test 187 Prediction: 5 True Class: 5\n",
      "Test 188 Prediction: 0 True Class: 0\n",
      "Test 189 Prediction: 1 True Class: 1\n",
      "Test 190 Prediction: 1 True Class: 1\n",
      "Test 191 Prediction: 1 True Class: 1\n",
      "Test 192 Prediction: 0 True Class: 0\n",
      "Test 193 Prediction: 4 True Class: 9\n",
      "Test 194 Prediction: 0 True Class: 0\n",
      "Test 195 Prediction: 1 True Class: 3\n",
      "Test 196 Prediction: 1 True Class: 1\n",
      "Test 197 Prediction: 6 True Class: 6\n",
      "Test 198 Prediction: 4 True Class: 4\n",
      "Test 199 Prediction: 2 True Class: 2\n",
      "Done!\n",
      "Accuracy: 0.92\n"
     ]
    }
   ],
   "source": [
    "# Launch the graph\n",
    "with tf.Session() as sess:\n",
    "    sess.run(init)\n",
    "\n",
    "    # loop over test data\n",
    "    for i in range(len(Xte)):\n",
    "        # Get nearest neighbor\n",
    "        nn_index = sess.run(pred, feed_dict={xtr: Xtr, xte: Xte[i,:]})\n",
    "        # Get nearest neighbor class label and compare it to its true label\n",
    "        print \"Test\", i, \"Prediction:\", np.argmax(Ytr[nn_index]), \\\n",
    "              \"True Class:\", np.argmax(Yte[i])\n",
    "        # Calculate accuracy\n",
    "        if np.argmax(Ytr[nn_index]) == np.argmax(Yte[i]):\n",
    "            accuracy += 1./len(Xte)\n",
    "    print \"Done!\"\n",
    "    print \"Accuracy:\", accuracy"
   ]
  },
  {
   "cell_type": "markdown",
   "metadata": {
    "collapsed": true
   },
   "source": [
    "# Skflow\n",
    "Sci-kit learn interface for training TensorFlow models"
   ]
  },
  {
   "cell_type": "markdown",
   "metadata": {},
   "source": [
    "## Linear Classifier"
   ]
  },
  {
   "cell_type": "code",
   "execution_count": 2,
   "metadata": {
    "collapsed": false
   },
   "outputs": [
    {
     "name": "stdout",
     "output_type": "stream",
     "text": [
      "Step #1, avg. loss: 0.83848\n",
      "Step #6, avg. loss: 0.79506\n",
      "Step #11, avg. loss: 0.94325\n",
      "Step #16, avg. loss: 0.65467\n",
      "Step #21, avg. loss: 0.59065\n",
      "Step #26, avg. loss: 0.65901\n",
      "Step #31, avg. loss: 0.69897\n",
      "Step #36, avg. loss: 0.67406\n",
      "Step #41, avg. loss: 0.62040\n",
      "Step #46, avg. loss: 0.64025\n",
      "Accuracy: 0.666667\n"
     ]
    }
   ],
   "source": [
    "import skflow\n",
    "from sklearn import datasets, metrics\n",
    "\n",
    "iris = datasets.load_iris()\n",
    "classifier = skflow.TensorFlowLinearClassifier(n_classes=3)\n",
    "classifier.fit(iris.data, iris.target)\n",
    "score = metrics.accuracy_score(classifier.predict(iris.data), iris.target)\n",
    "print(\"Accuracy: %f\" % score)"
   ]
  },
  {
   "cell_type": "markdown",
   "metadata": {},
   "source": [
    "## Linear Regressor"
   ]
  },
  {
   "cell_type": "code",
   "execution_count": 8,
   "metadata": {
    "collapsed": false
   },
   "outputs": [
    {
     "name": "stdout",
     "output_type": "stream",
     "text": [
      "Step #1, avg. loss: 721.42493\n",
      "Step #6, avg. loss: 551.94360\n",
      "Step #11, avg. loss: 420.82623\n",
      "Step #16, avg. loss: 335.78204\n",
      "Step #21, avg. loss: 322.84650\n",
      "Step #26, avg. loss: 261.69098\n",
      "Step #31, avg. loss: 220.50461\n",
      "Step #36, avg. loss: 160.86534\n",
      "Step #41, avg. loss: 151.91495\n",
      "Step #46, avg. loss: 115.30452\n",
      "MSE: 82.459702\n"
     ]
    }
   ],
   "source": [
    "import skflow\n",
    "from sklearn import datasets, metrics, preprocessing\n",
    "\n",
    "boston = datasets.load_boston()\n",
    "X = preprocessing.StandardScaler().fit_transform(boston.data)\n",
    "regressor = skflow.TensorFlowLinearRegressor()\n",
    "regressor.fit(X, boston.target)\n",
    "score = metrics.mean_squared_error(regressor.predict(X), boston.target)\n",
    "print (\"MSE: %f\" % score)"
   ]
  },
  {
   "cell_type": "markdown",
   "metadata": {},
   "source": [
    "## Deep Neural Network "
   ]
  },
  {
   "cell_type": "code",
   "execution_count": 9,
   "metadata": {
    "collapsed": false
   },
   "outputs": [
    {
     "name": "stdout",
     "output_type": "stream",
     "text": [
      "Step #1, avg. loss: 1.95578\n",
      "Step #6, avg. loss: 1.43943\n",
      "Step #11, avg. loss: 1.19190\n",
      "Step #16, avg. loss: 1.07484\n",
      "Step #21, avg. loss: 0.96688\n",
      "Step #26, avg. loss: 0.98163\n",
      "Step #31, avg. loss: 0.93504\n",
      "Step #36, avg. loss: 0.62121\n",
      "Step #41, avg. loss: 0.78237\n",
      "Step #46, avg. loss: 0.56841\n",
      "Accuracy: 0.666667\n"
     ]
    }
   ],
   "source": [
    "import skflow\n",
    "from sklearn import datasets, metrics\n",
    "\n",
    "iris = datasets.load_iris()\n",
    "classifier = skflow.TensorFlowDNNClassifier(hidden_units=[10, 20, 10], n_classes=3)\n",
    "classifier.fit(iris.data, iris.target)\n",
    "score = metrics.accuracy_score(classifier.predict(iris.data), iris.target)\n",
    "print(\"Accuracy: %f\" % score)"
   ]
  }
 ],
 "metadata": {
  "kernelspec": {
   "display_name": "Python 2",
   "language": "python",
   "name": "python2"
  },
  "language_info": {
   "codemirror_mode": {
    "name": "ipython",
    "version": 2
   },
   "file_extension": ".py",
   "mimetype": "text/x-python",
   "name": "python",
   "nbconvert_exporter": "python",
   "pygments_lexer": "ipython2",
   "version": "2.7.6"
  }
 },
 "nbformat": 4,
 "nbformat_minor": 0
}
