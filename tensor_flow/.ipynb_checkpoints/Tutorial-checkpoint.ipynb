{
 "cells": [
  {
   "cell_type": "markdown",
   "metadata": {},
   "source": [
    "# Math"
   ]
  },
  {
   "cell_type": "code",
   "execution_count": 1,
   "metadata": {
    "collapsed": false
   },
   "outputs": [
    {
     "name": "stdout",
     "output_type": "stream",
     "text": [
      "2.000000 should equal 2.0\n",
      "9.000000 should equal 9.0\n"
     ]
    }
   ],
   "source": [
    "import tensorflow as tf\n",
    "\n",
    "a = tf.placeholder(\"float\") # Create a symbolic variable 'a'\n",
    "b = tf.placeholder(\"float\") # Create a symbolic variable 'b'\n",
    "\n",
    "y = tf.mul(a, b) # multiply the symbolic variables\n",
    "\n",
    "sess = tf.Session() # create a session to evaluate the symbolic expressions\n",
    "\n",
    "print \"%f should equal 2.0\" % sess.run(y, feed_dict={a: 1, b: 2}) # eval expressions with parameters for a and b\n",
    "print \"%f should equal 9.0\" % sess.run(y, feed_dict={a: 3, b: 3})"
   ]
  },
  {
   "cell_type": "markdown",
   "metadata": {},
   "source": [
    "## Linear Regression"
   ]
  },
  {
   "cell_type": "code",
   "execution_count": 14,
   "metadata": {
    "collapsed": false
   },
   "outputs": [
    {
     "name": "stdout",
     "output_type": "stream",
     "text": [
      "2.01006\n"
     ]
    }
   ],
   "source": [
    "import tensorflow as tf\n",
    "import numpy as np\n",
    "\n",
    "trX = np.linspace(-1, 1, 101)\n",
    "trY = 2 * trX + np.random.randn(*trX.shape) * 0.33 # create a y value which is approximately linear but with some random noise\n",
    "\n",
    "X = tf.placeholder(\"float\") # create symbolic variables\n",
    "Y = tf.placeholder(\"float\")\n",
    "\n",
    "\n",
    "def model(X, w):\n",
    "    return tf.mul(X, w) # lr is just X*w so this model line is pretty simple\n",
    "\n",
    "\n",
    "w = tf.Variable(0.0, name=\"weights\") # create a shared variable (like theano.shared) for the weight matrix\n",
    "y_model = model(X, w)\n",
    "\n",
    "cost = (tf.pow(Y-y_model, 2)) # use sqr error for cost function\n",
    "\n",
    "train_op = tf.train.GradientDescentOptimizer(0.01).minimize(cost) # construct an optimizer to minimize cost and fit line to my data\n",
    "\n",
    "sess = tf.Session()\n",
    "init = tf.initialize_all_variables() # you need to initialize variables (in this case just variable W)\n",
    "sess.run(init)\n",
    "\n",
    "for i in range(100):\n",
    "    for (x, y) in zip(trX, trY): \n",
    "        sess.run(train_op, feed_dict={X: x, Y: y})\n",
    "\n",
    "print(sess.run(w))  # something around 2"
   ]
  },
  {
   "cell_type": "code",
   "execution_count": 15,
   "metadata": {
    "collapsed": false
   },
   "outputs": [
    {
     "name": "stdout",
     "output_type": "stream",
     "text": [
      "Succesfully downloaded train-images-idx3-ubyte.gz 9912422 bytes.\n",
      "Extracting MNIST_data/train-images-idx3-ubyte.gz\n",
      "Succesfully downloaded train-labels-idx1-ubyte.gz 28881 bytes.\n",
      "Extracting MNIST_data/train-labels-idx1-ubyte.gz\n",
      "Succesfully downloaded t10k-images-idx3-ubyte.gz 1648877 bytes.\n",
      "Extracting MNIST_data/t10k-images-idx3-ubyte.gz\n",
      "Succesfully downloaded t10k-labels-idx1-ubyte.gz 4542 bytes.\n",
      "Extracting MNIST_data/t10k-labels-idx1-ubyte.gz\n",
      "0 0.8839\n",
      "1 0.8966\n",
      "2 0.9029\n",
      "3 0.9076\n",
      "4 0.9103\n",
      "5 0.9108\n",
      "6 0.9121\n",
      "7 0.9134\n",
      "8 0.9152\n",
      "9 0.9154\n",
      "10 0.9163\n",
      "11 0.9168\n",
      "12 0.917\n",
      "13 0.9171\n",
      "14 0.9174\n",
      "15 0.9177\n",
      "16 0.9183\n",
      "17 0.9187\n",
      "18 0.919\n",
      "19 0.9195\n",
      "20 0.9197\n",
      "21 0.9198\n",
      "22 0.9201\n",
      "23 0.9204\n",
      "24 0.9203\n",
      "25 0.9206\n",
      "26 0.9207\n",
      "27 0.9209\n",
      "28 0.921\n",
      "29 0.9214\n",
      "30 0.9216\n",
      "31 0.9219\n",
      "32 0.9217\n",
      "33 0.9215\n",
      "34 0.9214\n",
      "35 0.9215\n",
      "36 0.9215\n",
      "37 0.9216\n",
      "38 0.922\n",
      "39 0.922\n",
      "40 0.922\n",
      "41 0.9217\n",
      "42 0.9217\n",
      "43 0.9219\n",
      "44 0.9221\n",
      "45 0.9219\n",
      "46 0.9219\n",
      "47 0.922\n",
      "48 0.922\n",
      "49 0.9218\n",
      "50 0.9217\n",
      "51 0.9219\n",
      "52 0.9221\n",
      "53 0.9224\n",
      "54 0.9226\n",
      "55 0.9226\n",
      "56 0.9225\n",
      "57 0.9225\n",
      "58 0.9228\n",
      "59 0.9229\n",
      "60 0.9229\n",
      "61 0.9231\n",
      "62 0.9232\n",
      "63 0.9232\n",
      "64 0.9234\n",
      "65 0.9232\n",
      "66 0.9233\n",
      "67 0.9235\n",
      "68 0.9235\n",
      "69 0.9235\n",
      "70 0.9234\n",
      "71 0.9233\n",
      "72 0.9233\n",
      "73 0.9234\n",
      "74 0.9236\n",
      "75 0.9237\n",
      "76 0.9237\n",
      "77 0.9236\n",
      "78 0.9236\n",
      "79 0.9235\n",
      "80 0.9234\n",
      "81 0.9236\n",
      "82 0.9237\n",
      "83 0.9237\n",
      "84 0.9236\n",
      "85 0.9236\n",
      "86 0.9236\n",
      "87 0.9237\n",
      "88 0.9237\n",
      "89 0.9237\n",
      "90 0.9237\n",
      "91 0.9238\n",
      "92 0.9237\n",
      "93 0.9235\n",
      "94 0.9234\n",
      "95 0.9233\n",
      "96 0.9235\n",
      "97 0.9234\n",
      "98 0.9234\n",
      "99 0.9235\n"
     ]
    }
   ],
   "source": [
    "import tensorflow as tf\n",
    "import numpy as np\n",
    "import input_data\n",
    "\n",
    "\n",
    "def init_weights(shape):\n",
    "    return tf.Variable(tf.random_normal(shape, stddev=0.01))\n",
    "\n",
    "\n",
    "def model(X, w):\n",
    "    return tf.matmul(X, w) # notice we use the same model as linear regression, this is because there is a baked in cost function which performs softmax and cross entropy\n",
    "\n",
    "\n",
    "mnist = input_data.read_data_sets(\"MNIST_data/\", one_hot=True)\n",
    "trX, trY, teX, teY = mnist.train.images, mnist.train.labels, mnist.test.images, mnist.test.labels\n",
    "\n",
    "X = tf.placeholder(\"float\", [None, 784]) # create symbolic variables\n",
    "Y = tf.placeholder(\"float\", [None, 10])\n",
    "\n",
    "w = init_weights([784, 10]) # like in linear regression, we need a shared variable weight matrix for logistic regression\n",
    "\n",
    "py_x = model(X, w)\n",
    "\n",
    "cost = tf.reduce_mean(tf.nn.softmax_cross_entropy_with_logits(py_x, Y)) # compute mean cross entropy (softmax is applied internally)\n",
    "train_op = tf.train.GradientDescentOptimizer(0.05).minimize(cost) # construct optimizer\n",
    "predict_op = tf.argmax(py_x, 1) # at predict time, evaluate the argmax of the logistic regression\n",
    "\n",
    "sess = tf.Session()\n",
    "init = tf.initialize_all_variables()\n",
    "sess.run(init)\n",
    "\n",
    "for i in range(100):\n",
    "    for start, end in zip(range(0, len(trX), 128), range(128, len(trX), 128)):\n",
    "        sess.run(train_op, feed_dict={X: trX[start:end], Y: trY[start:end]})\n",
    "    print i, np.mean(np.argmax(teY, axis=1) ==\n",
    "                     sess.run(predict_op, feed_dict={X: teX, Y: teY}))"
   ]
  },
  {
   "cell_type": "markdown",
   "metadata": {},
   "source": [
    "## Net"
   ]
  },
  {
   "cell_type": "code",
   "execution_count": 16,
   "metadata": {
    "collapsed": false
   },
   "outputs": [
    {
     "name": "stdout",
     "output_type": "stream",
     "text": [
      "Extracting MNIST_data/train-images-idx3-ubyte.gz\n",
      "Extracting MNIST_data/train-labels-idx1-ubyte.gz\n",
      "Extracting MNIST_data/t10k-images-idx3-ubyte.gz\n",
      "Extracting MNIST_data/t10k-labels-idx1-ubyte.gz\n",
      "0 0.6976\n",
      "1 0.8232\n",
      "2 0.8617\n",
      "3 0.8802\n",
      "4 0.888\n",
      "5 0.8939\n",
      "6 0.8977\n",
      "7 0.9005\n",
      "8 0.9037\n",
      "9 0.906\n",
      "10 0.9079\n",
      "11 0.9096\n",
      "12 0.9122\n",
      "13 0.9126\n",
      "14 0.9137\n",
      "15 0.915\n",
      "16 0.9154\n",
      "17 0.9167\n",
      "18 0.9176\n",
      "19 0.9179\n",
      "20 0.9186\n",
      "21 0.9192\n",
      "22 0.9195\n",
      "23 0.9197\n",
      "24 0.9203\n",
      "25 0.9207\n",
      "26 0.9211\n",
      "27 0.9216\n",
      "28 0.922\n",
      "29 0.9225\n",
      "30 0.9227\n",
      "31 0.9233\n",
      "32 0.9239\n",
      "33 0.9242\n",
      "34 0.925\n",
      "35 0.9257\n",
      "36 0.9261\n",
      "37 0.9263\n",
      "38 0.9268\n",
      "39 0.927\n",
      "40 0.9274\n",
      "41 0.9276\n",
      "42 0.928\n",
      "43 0.9281\n",
      "44 0.9288\n",
      "45 0.9295\n",
      "46 0.93\n",
      "47 0.931\n",
      "48 0.9316\n",
      "49 0.9317\n",
      "50 0.9323\n",
      "51 0.9334\n",
      "52 0.934\n",
      "53 0.9347\n",
      "54 0.9355\n",
      "55 0.9361\n",
      "56 0.9372\n",
      "57 0.9379\n",
      "58 0.9383\n",
      "59 0.9388\n",
      "60 0.9396\n",
      "61 0.94\n",
      "62 0.9403\n",
      "63 0.9404\n",
      "64 0.9409\n",
      "65 0.9411\n",
      "66 0.9412\n",
      "67 0.9417\n",
      "68 0.9423\n",
      "69 0.9425\n",
      "70 0.9431\n",
      "71 0.9437\n",
      "72 0.9442\n",
      "73 0.9451\n",
      "74 0.9456\n",
      "75 0.946\n",
      "76 0.9466\n",
      "77 0.9472\n",
      "78 0.9479\n",
      "79 0.9488\n",
      "80 0.9493\n",
      "81 0.9497\n",
      "82 0.9499\n",
      "83 0.9503\n",
      "84 0.9506\n",
      "85 0.951\n",
      "86 0.9511\n",
      "87 0.9518\n",
      "88 0.9523\n",
      "89 0.9531\n",
      "90 0.9532\n",
      "91 0.9537\n",
      "92 0.9542\n",
      "93 0.9549\n",
      "94 0.955\n",
      "95 0.955\n",
      "96 0.9551\n",
      "97 0.9552\n",
      "98 0.9552\n",
      "99 0.9552\n"
     ]
    }
   ],
   "source": [
    "import tensorflow as tf\n",
    "import numpy as np\n",
    "import input_data\n",
    "\n",
    "\n",
    "def init_weights(shape):\n",
    "    return tf.Variable(tf.random_normal(shape, stddev=0.01))\n",
    "\n",
    "\n",
    "def model(X, w_h, w_o):\n",
    "    h = tf.nn.sigmoid(tf.matmul(X, w_h)) # this is a basic mlp, think 2 stacked logistic regressions\n",
    "    return tf.matmul(h, w_o) # note that we dont take the softmax at the end because our cost fn does that for us\n",
    "\n",
    "\n",
    "mnist = input_data.read_data_sets(\"MNIST_data/\", one_hot=True)\n",
    "trX, trY, teX, teY = mnist.train.images, mnist.train.labels, mnist.test.images, mnist.test.labels\n",
    "\n",
    "X = tf.placeholder(\"float\", [None, 784])\n",
    "Y = tf.placeholder(\"float\", [None, 10])\n",
    "\n",
    "w_h = init_weights([784, 625]) # create symbolic variables\n",
    "w_o = init_weights([625, 10])\n",
    "\n",
    "py_x = model(X, w_h, w_o)\n",
    "\n",
    "cost = tf.reduce_mean(tf.nn.softmax_cross_entropy_with_logits(py_x, Y)) # compute costs\n",
    "train_op = tf.train.GradientDescentOptimizer(0.05).minimize(cost) # construct an optimizer\n",
    "predict_op = tf.argmax(py_x, 1)\n",
    "\n",
    "sess = tf.Session()\n",
    "init = tf.initialize_all_variables()\n",
    "sess.run(init)\n",
    "\n",
    "for i in range(100):\n",
    "    for start, end in zip(range(0, len(trX), 128), range(128, len(trX), 128)):\n",
    "        sess.run(train_op, feed_dict={X: trX[start:end], Y: trY[start:end]})\n",
    "    print i, np.mean(np.argmax(teY, axis=1) ==\n",
    "                     sess.run(predict_op, feed_dict={X: teX, Y: teY}))"
   ]
  },
  {
   "cell_type": "markdown",
   "metadata": {},
   "source": [
    "## Modern Net"
   ]
  },
  {
   "cell_type": "code",
   "execution_count": 17,
   "metadata": {
    "collapsed": false
   },
   "outputs": [
    {
     "name": "stdout",
     "output_type": "stream",
     "text": [
      "Extracting MNIST_data/train-images-idx3-ubyte.gz\n",
      "Extracting MNIST_data/train-labels-idx1-ubyte.gz\n",
      "Extracting MNIST_data/t10k-images-idx3-ubyte.gz\n",
      "Extracting MNIST_data/t10k-labels-idx1-ubyte.gz\n",
      "0 0.9398\n",
      "1 0.965\n",
      "2 0.9698\n",
      "3 0.973\n",
      "4 0.9728\n",
      "5 0.9773\n",
      "6 0.9782\n",
      "7 0.9786\n",
      "8 0.9786\n",
      "9 0.9783\n",
      "10 0.9796\n",
      "11 0.9807\n",
      "12 0.9789\n",
      "13 0.981\n",
      "14 0.9835\n",
      "15 0.9808\n",
      "16 0.9806\n",
      "17 0.9814\n",
      "18 0.9816\n",
      "19 0.9821\n",
      "20 0.983\n",
      "21 0.9825\n",
      "22 0.9809\n",
      "23 0.9814\n",
      "24 0.9829\n",
      "25 0.9854\n",
      "26 0.9842\n",
      "27 0.9835\n",
      "28 0.984\n",
      "29 0.9839\n",
      "30 0.9838\n",
      "31 0.9834\n",
      "32 0.9837\n",
      "33 0.9844\n",
      "34 0.984\n",
      "35 0.9835\n",
      "36 0.9845\n",
      "37 0.9842\n",
      "38 0.9834\n",
      "39 0.9843\n",
      "40 0.9838\n",
      "41 0.9844\n",
      "42 0.9837\n",
      "43 0.9852\n",
      "44 0.9847\n",
      "45 0.9844\n",
      "46 0.9838\n",
      "47 0.983\n",
      "48 0.9846\n",
      "49 0.9846\n",
      "50 0.9846\n",
      "51 0.9837\n",
      "52 0.9855\n",
      "53 0.9858\n",
      "54 0.985\n",
      "55 0.985\n",
      "56 0.9848\n",
      "57 0.9851\n",
      "58 0.9848\n",
      "59 0.9846\n",
      "60 0.984\n",
      "61 0.9834\n",
      "62 0.9851\n",
      "63 0.9845\n",
      "64 0.9848\n",
      "65 0.9854\n",
      "66 0.9844\n",
      "67 0.9842\n",
      "68 0.9852\n",
      "69 0.9841\n",
      "70 0.9852\n",
      "71 0.9857\n",
      "72 0.9841\n",
      "73 0.9844\n",
      "74 0.9853\n",
      "75 0.9847\n",
      "76 0.9862\n",
      "77 0.9858\n",
      "78 0.9863\n",
      "79 0.9843\n",
      "80 0.9857\n",
      "81 0.9863\n",
      "82 0.9855\n",
      "83 0.9859\n",
      "84 0.9857\n",
      "85 0.9852\n",
      "86 0.9856\n",
      "87 0.9846\n",
      "88 0.9856\n",
      "89 0.9842\n",
      "90 0.984\n",
      "91 0.9844\n",
      "92 0.9855\n",
      "93 0.9836\n",
      "94 0.9849\n",
      "95 0.9854\n",
      "96 0.9846\n",
      "97 0.9838\n",
      "98 0.9854\n",
      "99 0.9843\n"
     ]
    }
   ],
   "source": [
    "import tensorflow as tf\n",
    "import numpy as np\n",
    "import input_data\n",
    "\n",
    "\n",
    "def init_weights(shape):\n",
    "    return tf.Variable(tf.random_normal(shape, stddev=0.01))\n",
    "\n",
    "\n",
    "def model(X, w_h, w_h2, w_o, p_drop_input, p_drop_hidden):\n",
    "    # this network is the same as the previous one except with an extra hidden layer + dropout\n",
    "    X = tf.nn.dropout(X, p_drop_input)\n",
    "    h = tf.nn.relu(tf.matmul(X, w_h))\n",
    "\n",
    "    h = tf.nn.dropout(h, p_drop_hidden)\n",
    "    h2 = tf.nn.relu(tf.matmul(h, w_h2))\n",
    "\n",
    "    h2 = tf.nn.dropout(h2, p_drop_hidden)\n",
    "\n",
    "    return tf.matmul(h2, w_o)\n",
    "\n",
    "\n",
    "mnist = input_data.read_data_sets(\"MNIST_data/\", one_hot=True)\n",
    "trX, trY, teX, teY = mnist.train.images, mnist.train.labels, mnist.test.images, mnist.test.labels\n",
    "\n",
    "X = tf.placeholder(\"float\", [None, 784])\n",
    "Y = tf.placeholder(\"float\", [None, 10])\n",
    "\n",
    "w_h = init_weights([784, 625])\n",
    "w_h2 = init_weights([625, 625])\n",
    "w_o = init_weights([625, 10])\n",
    "\n",
    "p_keep_input = tf.placeholder(\"float\")\n",
    "p_keep_hidden = tf.placeholder(\"float\")\n",
    "py_x = model(X, w_h, w_h2, w_o, p_keep_input, p_keep_hidden)\n",
    "\n",
    "cost = tf.reduce_mean(tf.nn.softmax_cross_entropy_with_logits(py_x, Y))\n",
    "train_op = tf.train.RMSPropOptimizer(0.001, 0.9).minimize(cost)\n",
    "predict_op = tf.argmax(py_x, 1)\n",
    "\n",
    "sess = tf.Session()\n",
    "init = tf.initialize_all_variables()\n",
    "sess.run(init)\n",
    "\n",
    "for i in range(100):\n",
    "    for start, end in zip(range(0, len(trX), 128), range(128, len(trX), 128)):\n",
    "        sess.run(train_op, feed_dict={X: trX[start:end], Y: trY[start:end],\n",
    "                                      p_keep_input: 0.8, p_keep_hidden: 0.5})\n",
    "    print i, np.mean(np.argmax(teY, axis=1) ==\n",
    "                     sess.run(predict_op, feed_dict={X: teX, Y: teY,\n",
    "                                                     p_keep_input: 1.0,\n",
    "                                                     p_keep_hidden: 1.0}))"
   ]
  },
  {
   "cell_type": "markdown",
   "metadata": {},
   "source": [
    "## Convolutional Net"
   ]
  },
  {
   "cell_type": "code",
   "execution_count": 18,
   "metadata": {
    "collapsed": false
   },
   "outputs": [
    {
     "name": "stdout",
     "output_type": "stream",
     "text": [
      "Extracting MNIST_data/train-images-idx3-ubyte.gz\n",
      "Extracting MNIST_data/train-labels-idx1-ubyte.gz\n",
      "Extracting MNIST_data/t10k-images-idx3-ubyte.gz\n",
      "Extracting MNIST_data/t10k-labels-idx1-ubyte.gz\n",
      "0 0.96875\n",
      "1 0.984375\n",
      "2 0.9765625\n",
      "3 0.98828125\n",
      "4 0.98828125\n",
      "5 0.984375\n",
      "6 0.9765625\n",
      "7 0.99609375\n",
      "8 0.99609375\n",
      "9 0.98828125\n",
      "10 0.99609375\n",
      "11 0.9921875\n",
      "12 0.9921875\n",
      "13 0.98828125\n",
      "14 0.9921875\n",
      "15 0.9921875\n",
      "16 0.984375\n"
     ]
    },
    {
     "ename": "KeyboardInterrupt",
     "evalue": "",
     "output_type": "error",
     "traceback": [
      "\u001b[0;31m---------------------------------------------------------------------------\u001b[0m",
      "\u001b[0;31mKeyboardInterrupt\u001b[0m                         Traceback (most recent call last)",
      "\u001b[0;32m<ipython-input-18-e0fd3c0bcbdf>\u001b[0m in \u001b[0;36m<module>\u001b[0;34m()\u001b[0m\n\u001b[1;32m     60\u001b[0m     \u001b[0;32mfor\u001b[0m \u001b[0mstart\u001b[0m\u001b[0;34m,\u001b[0m \u001b[0mend\u001b[0m \u001b[0;32min\u001b[0m \u001b[0mzip\u001b[0m\u001b[0;34m(\u001b[0m\u001b[0mrange\u001b[0m\u001b[0;34m(\u001b[0m\u001b[0;36m0\u001b[0m\u001b[0;34m,\u001b[0m \u001b[0mlen\u001b[0m\u001b[0;34m(\u001b[0m\u001b[0mtrX\u001b[0m\u001b[0;34m)\u001b[0m\u001b[0;34m,\u001b[0m \u001b[0;36m128\u001b[0m\u001b[0;34m)\u001b[0m\u001b[0;34m,\u001b[0m \u001b[0mrange\u001b[0m\u001b[0;34m(\u001b[0m\u001b[0;36m128\u001b[0m\u001b[0;34m,\u001b[0m \u001b[0mlen\u001b[0m\u001b[0;34m(\u001b[0m\u001b[0mtrX\u001b[0m\u001b[0;34m)\u001b[0m\u001b[0;34m,\u001b[0m \u001b[0;36m128\u001b[0m\u001b[0;34m)\u001b[0m\u001b[0;34m)\u001b[0m\u001b[0;34m:\u001b[0m\u001b[0;34m\u001b[0m\u001b[0m\n\u001b[1;32m     61\u001b[0m         sess.run(train_op, feed_dict={X: trX[start:end], Y: trY[start:end],\n\u001b[0;32m---> 62\u001b[0;31m                                       p_keep_conv: 0.8, p_keep_hidden: 0.5})\n\u001b[0m\u001b[1;32m     63\u001b[0m \u001b[0;34m\u001b[0m\u001b[0m\n\u001b[1;32m     64\u001b[0m     \u001b[0mtest_indices\u001b[0m \u001b[0;34m=\u001b[0m \u001b[0mnp\u001b[0m\u001b[0;34m.\u001b[0m\u001b[0marange\u001b[0m\u001b[0;34m(\u001b[0m\u001b[0mlen\u001b[0m\u001b[0;34m(\u001b[0m\u001b[0mteX\u001b[0m\u001b[0;34m)\u001b[0m\u001b[0;34m)\u001b[0m \u001b[0;31m# Get A Test Batch\u001b[0m\u001b[0;34m\u001b[0m\u001b[0m\n",
      "\u001b[0;32m/Users/alexchao/Desktop/DeepLearningExamples/tf_venv/lib/python2.7/site-packages/tensorflow/python/client/session.pyc\u001b[0m in \u001b[0;36mrun\u001b[0;34m(self, fetches, feed_dict)\u001b[0m\n\u001b[1;32m    343\u001b[0m \u001b[0;34m\u001b[0m\u001b[0m\n\u001b[1;32m    344\u001b[0m     \u001b[0;31m# Run request and get response.\u001b[0m\u001b[0;34m\u001b[0m\u001b[0;34m\u001b[0m\u001b[0m\n\u001b[0;32m--> 345\u001b[0;31m     \u001b[0mresults\u001b[0m \u001b[0;34m=\u001b[0m \u001b[0mself\u001b[0m\u001b[0;34m.\u001b[0m\u001b[0m_do_run\u001b[0m\u001b[0;34m(\u001b[0m\u001b[0mtarget_list\u001b[0m\u001b[0;34m,\u001b[0m \u001b[0munique_fetch_targets\u001b[0m\u001b[0;34m,\u001b[0m \u001b[0mfeed_dict_string\u001b[0m\u001b[0;34m)\u001b[0m\u001b[0;34m\u001b[0m\u001b[0m\n\u001b[0m\u001b[1;32m    346\u001b[0m \u001b[0;34m\u001b[0m\u001b[0m\n\u001b[1;32m    347\u001b[0m     \u001b[0;31m# User may have fetched the same tensor multiple times, but we\u001b[0m\u001b[0;34m\u001b[0m\u001b[0;34m\u001b[0m\u001b[0m\n",
      "\u001b[0;32m/Users/alexchao/Desktop/DeepLearningExamples/tf_venv/lib/python2.7/site-packages/tensorflow/python/client/session.pyc\u001b[0m in \u001b[0;36m_do_run\u001b[0;34m(self, target_list, fetch_list, feed_dict)\u001b[0m\n\u001b[1;32m    402\u001b[0m \u001b[0;34m\u001b[0m\u001b[0m\n\u001b[1;32m    403\u001b[0m       return tf_session.TF_Run(self._session, feed_dict, fetch_list,\n\u001b[0;32m--> 404\u001b[0;31m                                target_list)\n\u001b[0m\u001b[1;32m    405\u001b[0m \u001b[0;34m\u001b[0m\u001b[0m\n\u001b[1;32m    406\u001b[0m     \u001b[0;32mexcept\u001b[0m \u001b[0mtf_session\u001b[0m\u001b[0;34m.\u001b[0m\u001b[0mStatusNotOK\u001b[0m \u001b[0;32mas\u001b[0m \u001b[0me\u001b[0m\u001b[0;34m:\u001b[0m\u001b[0;34m\u001b[0m\u001b[0m\n",
      "\u001b[0;31mKeyboardInterrupt\u001b[0m: "
     ]
    }
   ],
   "source": [
    "import tensorflow as tf\n",
    "import numpy as np\n",
    "import input_data\n",
    "\n",
    "\n",
    "def init_weights(shape):\n",
    "    return tf.Variable(tf.random_normal(shape, stddev=0.01))\n",
    "\n",
    "\n",
    "def model(X, w, w2, w3, w4, w_o, p_keep_conv, p_keep_hidden):\n",
    "    l1a = tf.nn.relu(tf.nn.conv2d(X, w, [1, 1, 1, 1], 'SAME'))\n",
    "    l1 = tf.nn.max_pool(l1a, ksize=[1, 2, 2, 1],\n",
    "                        strides=[1, 2, 2, 1], padding='SAME')\n",
    "    l1 = tf.nn.dropout(l1, p_keep_conv)\n",
    "\n",
    "    l2a = tf.nn.relu(tf.nn.conv2d(l1, w2, [1, 1, 1, 1], 'SAME'))\n",
    "    l2 = tf.nn.max_pool(l2a, ksize=[1, 2, 2, 1],\n",
    "                        strides=[1, 2, 2, 1], padding='SAME')\n",
    "    l2 = tf.nn.dropout(l2, p_keep_conv)\n",
    "\n",
    "    l3a = tf.nn.relu(tf.nn.conv2d(l2, w3, [1, 1, 1, 1], 'SAME'))\n",
    "    l3 = tf.nn.max_pool(l3a, ksize=[1, 2, 2, 1],\n",
    "                        strides=[1, 2, 2, 1], padding='SAME')\n",
    "    l3 = tf.reshape(l3, [-1, w4.get_shape().as_list()[0]])\n",
    "    l3 = tf.nn.dropout(l3, p_keep_conv)\n",
    "\n",
    "    l4 = tf.nn.relu(tf.matmul(l3, w4))\n",
    "    l4 = tf.nn.dropout(l4, p_keep_hidden)\n",
    "\n",
    "    pyx = tf.matmul(l4, w_o)\n",
    "    return pyx\n",
    "\n",
    "mnist = input_data.read_data_sets(\"MNIST_data/\", one_hot=True)\n",
    "trX, trY, teX, teY = mnist.train.images, mnist.train.labels, mnist.test.images, mnist.test.labels\n",
    "trX = trX.reshape(-1, 28, 28, 1)\n",
    "teX = teX.reshape(-1, 28, 28, 1)\n",
    "\n",
    "X = tf.placeholder(\"float\", [None, 28, 28, 1])\n",
    "Y = tf.placeholder(\"float\", [None, 10])\n",
    "\n",
    "w = init_weights([3, 3, 1, 32])\n",
    "w2 = init_weights([3, 3, 32, 64])\n",
    "w3 = init_weights([3, 3, 64, 128])\n",
    "w4 = init_weights([128 * 4 * 4, 625])\n",
    "w_o = init_weights([625, 10])\n",
    "\n",
    "p_keep_conv = tf.placeholder(\"float\")\n",
    "p_keep_hidden = tf.placeholder(\"float\")\n",
    "py_x = model(X, w, w2, w3, w4, w_o, p_keep_conv, p_keep_hidden)\n",
    "\n",
    "cost = tf.reduce_mean(tf.nn.softmax_cross_entropy_with_logits(py_x, Y))\n",
    "train_op = tf.train.RMSPropOptimizer(0.001, 0.9).minimize(cost)\n",
    "predict_op = tf.argmax(py_x, 1)\n",
    "\n",
    "sess = tf.Session()\n",
    "init = tf.initialize_all_variables()\n",
    "sess.run(init)\n",
    "\n",
    "for i in range(100):\n",
    "    for start, end in zip(range(0, len(trX), 128), range(128, len(trX), 128)):\n",
    "        sess.run(train_op, feed_dict={X: trX[start:end], Y: trY[start:end],\n",
    "                                      p_keep_conv: 0.8, p_keep_hidden: 0.5})\n",
    "    \n",
    "    test_indices = np.arange(len(teX)) # Get A Test Batch\n",
    "    np.random.shuffle(test_indices)\n",
    "    test_indices = test_indices[0:256]\n",
    "    \n",
    "    print i, np.mean(np.argmax(teY[test_indices], axis=1) ==\n",
    "                     sess.run(predict_op, feed_dict={X: teX[test_indices],\n",
    "                                                     Y: teY[test_indices],\n",
    "                                                     p_keep_conv: 1.0,\n",
    "                                                     p_keep_hidden: 1.0}))"
   ]
  },
  {
   "cell_type": "markdown",
   "metadata": {},
   "source": [
    "## K-means clustering"
   ]
  },
  {
   "cell_type": "code",
   "execution_count": 20,
   "metadata": {
    "collapsed": false
   },
   "outputs": [],
   "source": [
    "import matplotlib.pyplot as plt\n",
    "import numpy as np\n",
    "import pandas as pd\n",
    "import seaborn as sns\n",
    "import tensorflow as tf"
   ]
  },
  {
   "cell_type": "code",
   "execution_count": 21,
   "metadata": {
    "collapsed": true
   },
   "outputs": [],
   "source": [
    "%matplotlib inline"
   ]
  },
  {
   "cell_type": "markdown",
   "metadata": {},
   "source": [
    "Start off by defining some hyperparameters."
   ]
  },
  {
   "cell_type": "code",
   "execution_count": 22,
   "metadata": {
    "collapsed": true
   },
   "outputs": [],
   "source": [
    "num_vectors = 1000\n",
    "num_clusters = 3\n",
    "num_steps = 100"
   ]
  },
  {
   "cell_type": "markdown",
   "metadata": {
    "collapsed": true
   },
   "source": [
    "Generate some sample data as a list of random 2D vectors from two overlapping normal distributions"
   ]
  },
  {
   "cell_type": "code",
   "execution_count": 23,
   "metadata": {
    "collapsed": false
   },
   "outputs": [],
   "source": [
    "vector_values = []\n",
    "for i in xrange(num_vectors):\n",
    "    if np.random.random() > 0.5:\n",
    "        vector_values.append([np.random.normal(0.5, 0.6),\n",
    "                              np.random.normal(0.3, 0.9)])\n",
    "    else:\n",
    "        vector_values.append([np.random.normal(2.5, 0.4),\n",
    "                         np.random.normal(0.8, 0.5)])"
   ]
  },
  {
   "cell_type": "code",
   "execution_count": 24,
   "metadata": {
    "collapsed": false
   },
   "outputs": [
    {
     "data": {
      "text/plain": [
       "<seaborn.axisgrid.FacetGrid at 0x115242950>"
      ]
     },
     "execution_count": 24,
     "metadata": {},
     "output_type": "execute_result"
    },
    {
     "data": {
      "image/png": "[encoded data removed]",
      "text/plain": [
       "<matplotlib.figure.Figure at 0x115474650>"
      ]
     },
     "metadata": {},
     "output_type": "display_data"
    }
   ],
   "source": [
    "df = pd.DataFrame({\"x\": [v[0] for v in vector_values], \n",
    "                   \"y\": [v[1] for v in vector_values]})\n",
    "sns.lmplot(\"x\", \"y\", data=df, fit_reg=False, size=7)"
   ]
  },
  {
   "cell_type": "markdown",
   "metadata": {
    "collapsed": true
   },
   "source": [
    "Let's start building our k-means TensorFlow graph with a few simple operators:\n",
    "- Store our vector input values in a 2D tensor constant.\n",
    "- Randomly shuffle the input vectors and then slice off the first num_cluster vectors as a 2D tensor and store the result in a Variable."
   ]
  },
  {
   "cell_type": "code",
   "execution_count": 25,
   "metadata": {
    "collapsed": true
   },
   "outputs": [],
   "source": [
    "vectors = tf.constant(vector_values)\n",
    "centroids = tf.Variable(tf.slice(tf.random_shuffle(vectors), \n",
    "                                 [0,0],[num_clusters,-1]))"
   ]
  },
  {
   "cell_type": "markdown",
   "metadata": {},
   "source": [
    "Here's where things get a little more complicated. We extend both of our 2D tensors into 3 dimensions so that we can do an element-wise subtraction between them. This would be pretty straight-forward except that these two tensors have completely different sizes."
   ]
  },
  {
   "cell_type": "code",
   "execution_count": 26,
   "metadata": {
    "collapsed": false
   },
   "outputs": [
    {
     "name": "stdout",
     "output_type": "stream",
     "text": [
      "TensorShape([Dimension(1), Dimension(1000), Dimension(2)])\n",
      "TensorShape([Dimension(3), Dimension(1), Dimension(2)])\n"
     ]
    }
   ],
   "source": [
    "expanded_vectors = tf.expand_dims(vectors, 0)\n",
    "expanded_centroids = tf.expand_dims(centroids, 1)\n",
    "\n",
    "print expanded_vectors.get_shape()\n",
    "print expanded_centroids.get_shape()"
   ]
  },
  {
   "cell_type": "markdown",
   "metadata": {},
   "source": [
    "However, because of the shape broadcasting feature in Tensorflow, the tf.sub operators is still able to figure out how to do the element-wise subtraction between the two tensors. That allows us to calculate the squared Euclidian distances (no need to take the square-root) and determine the cluster assignments for every vector and centroid all at once."
   ]
  },
  {
   "cell_type": "code",
   "execution_count": 27,
   "metadata": {
    "collapsed": true
   },
   "outputs": [],
   "source": [
    "distances = tf.reduce_sum(\n",
    "  tf.square(tf.sub(expanded_vectors, expanded_centroids)), 2)\n",
    "assignments = tf.argmin(distances, 0)"
   ]
  },
  {
   "cell_type": "markdown",
   "metadata": {},
   "source": [
    "Once we have the cluster assignments, we can go back through the input vectors and gather all of the members of each cluster and average them together to calculate the new centroids for that cluster."
   ]
  },
  {
   "cell_type": "code",
   "execution_count": 28,
   "metadata": {
    "collapsed": true
   },
   "outputs": [],
   "source": [
    "means = tf.concat(0, [\n",
    "  tf.reduce_mean(\n",
    "      tf.gather(vectors, \n",
    "                tf.reshape(\n",
    "                  tf.where(\n",
    "                    tf.equal(assignments, c)\n",
    "                  ),[1,-1])\n",
    "               ),reduction_indices=[1])\n",
    "  for c in xrange(num_clusters)])"
   ]
  },
  {
   "cell_type": "markdown",
   "metadata": {},
   "source": [
    "Finally, we create an operator which assigns the means, which we just calculated, to the centroids variable so that the next time we run the graph it is using the updated centroids.\n",
    "\n",
    "We also create a operator to initialize all of our variable before we run the graph."
   ]
  },
  {
   "cell_type": "code",
   "execution_count": 29,
   "metadata": {
    "collapsed": true
   },
   "outputs": [],
   "source": [
    "update_centroids = tf.assign(centroids, means)\n",
    "init_op = tf.initialize_all_variables()"
   ]
  },
  {
   "cell_type": "markdown",
   "metadata": {},
   "source": [
    "Here's where we run our graph. For each step in num_steps, we update the centroids and fetch the values of those centroids as well as the cluster assignments for each of our input vectors. TensorFlow will figure out all of the dependencies so that all of the necessary operators in our graph will be evaluated in order to calculate the new centroids.\n",
    "After all the steps have completed, we display the coordinates of our final centroids."
   ]
  },
  {
   "cell_type": "code",
   "execution_count": 34,
   "metadata": {
    "collapsed": false
   },
   "outputs": [
    {
     "name": "stdout",
     "output_type": "stream",
     "text": [
      "centroids\n",
      "[[ 0.48565939 -0.46930566]\n",
      " [ 2.45395446  0.78782636]\n",
      " [ 0.44363374  0.98338723]]\n"
     ]
    }
   ],
   "source": [
    "with tf.Session() as sess:\n",
    "    sess.run(init_op)\n",
    "    for step in xrange(num_steps):\n",
    "        _, centroid_values, assignment_values = sess.run([update_centroids,\n",
    "                                                      centroids,\n",
    "                                                      assignments])\n",
    "    print \"centroids\"\n",
    "    print centroid_values"
   ]
  },
  {
   "cell_type": "code",
   "execution_count": 35,
   "metadata": {
    "collapsed": false
   },
   "outputs": [
    {
     "data": {
      "text/plain": [
       "<seaborn.axisgrid.FacetGrid at 0x1152c8a10>"
      ]
     },
     "execution_count": 35,
     "metadata": {},
     "output_type": "execute_result"
    },
    {
     "data": {
      "image/png": "[encoded data removed]",
      "text/plain": [
       "<matplotlib.figure.Figure at 0x1154f00d0>"
      ]
     },
     "metadata": {},
     "output_type": "display_data"
    }
   ],
   "source": [
    "data = {\"x\": [], \"y\": [], \"cluster\": []}\n",
    "for i in xrange(len(assignment_values)):\n",
    "    data[\"x\"].append(vector_values[i][0])\n",
    "    data[\"y\"].append(vector_values[i][1])\n",
    "    data[\"cluster\"].append(assignment_values[i])\n",
    "df = pd.DataFrame(data)\n",
    "sns.lmplot(\"x\", \"y\", data=df, \n",
    "           fit_reg=False, size=7, \n",
    "           hue=\"cluster\", legend=False)"
   ]
  },
  {
   "cell_type": "markdown",
   "metadata": {
    "collapsed": true
   },
   "source": [
    "# Skflow\n",
    "Sci-kit learn interface for training TensorFlow models"
   ]
  },
  {
   "cell_type": "code",
   "execution_count": null,
   "metadata": {
    "collapsed": true
   },
   "outputs": [],
   "source": []
  },
  {
   "cell_type": "code",
   "execution_count": null,
   "metadata": {
    "collapsed": true
   },
   "outputs": [],
   "source": []
  },
  {
   "cell_type": "markdown",
   "metadata": {},
   "source": [
    "## Linear Classifier"
   ]
  },
  {
   "cell_type": "code",
   "execution_count": 2,
   "metadata": {
    "collapsed": false
   },
   "outputs": [
    {
     "name": "stdout",
     "output_type": "stream",
     "text": [
      "Step #1, avg. loss: 0.83848\n",
      "Step #6, avg. loss: 0.79506\n",
      "Step #11, avg. loss: 0.94325\n",
      "Step #16, avg. loss: 0.65467\n",
      "Step #21, avg. loss: 0.59065\n",
      "Step #26, avg. loss: 0.65901\n",
      "Step #31, avg. loss: 0.69897\n",
      "Step #36, avg. loss: 0.67406\n",
      "Step #41, avg. loss: 0.62040\n",
      "Step #46, avg. loss: 0.64025\n",
      "Accuracy: 0.666667\n"
     ]
    }
   ],
   "source": [
    "import skflow\n",
    "from sklearn import datasets, metrics\n",
    "\n",
    "iris = datasets.load_iris()\n",
    "classifier = skflow.TensorFlowLinearClassifier(n_classes=3)\n",
    "classifier.fit(iris.data, iris.target)\n",
    "score = metrics.accuracy_score(classifier.predict(iris.data), iris.target)\n",
    "print(\"Accuracy: %f\" % score)"
   ]
  },
  {
   "cell_type": "markdown",
   "metadata": {},
   "source": [
    "## Linear Regressor"
   ]
  },
  {
   "cell_type": "code",
   "execution_count": 8,
   "metadata": {
    "collapsed": false
   },
   "outputs": [
    {
     "name": "stdout",
     "output_type": "stream",
     "text": [
      "Step #1, avg. loss: 721.42493\n",
      "Step #6, avg. loss: 551.94360\n",
      "Step #11, avg. loss: 420.82623\n",
      "Step #16, avg. loss: 335.78204\n",
      "Step #21, avg. loss: 322.84650\n",
      "Step #26, avg. loss: 261.69098\n",
      "Step #31, avg. loss: 220.50461\n",
      "Step #36, avg. loss: 160.86534\n",
      "Step #41, avg. loss: 151.91495\n",
      "Step #46, avg. loss: 115.30452\n",
      "MSE: 82.459702\n"
     ]
    }
   ],
   "source": [
    "import skflow\n",
    "from sklearn import datasets, metrics, preprocessing\n",
    "\n",
    "boston = datasets.load_boston()\n",
    "X = preprocessing.StandardScaler().fit_transform(boston.data)\n",
    "regressor = skflow.TensorFlowLinearRegressor()\n",
    "regressor.fit(X, boston.target)\n",
    "score = metrics.mean_squared_error(regressor.predict(X), boston.target)\n",
    "print (\"MSE: %f\" % score)"
   ]
  },
  {
   "cell_type": "markdown",
   "metadata": {},
   "source": [
    "## Deep Neural Network "
   ]
  },
  {
   "cell_type": "code",
   "execution_count": 9,
   "metadata": {
    "collapsed": false
   },
   "outputs": [
    {
     "name": "stdout",
     "output_type": "stream",
     "text": [
      "Step #1, avg. loss: 1.95578\n",
      "Step #6, avg. loss: 1.43943\n",
      "Step #11, avg. loss: 1.19190\n",
      "Step #16, avg. loss: 1.07484\n",
      "Step #21, avg. loss: 0.96688\n",
      "Step #26, avg. loss: 0.98163\n",
      "Step #31, avg. loss: 0.93504\n",
      "Step #36, avg. loss: 0.62121\n",
      "Step #41, avg. loss: 0.78237\n",
      "Step #46, avg. loss: 0.56841\n",
      "Accuracy: 0.666667\n"
     ]
    }
   ],
   "source": [
    "import skflow\n",
    "from sklearn import datasets, metrics\n",
    "\n",
    "iris = datasets.load_iris()\n",
    "classifier = skflow.TensorFlowDNNClassifier(hidden_units=[10, 20, 10], n_classes=3)\n",
    "classifier.fit(iris.data, iris.target)\n",
    "score = metrics.accuracy_score(classifier.predict(iris.data), iris.target)\n",
    "print(\"Accuracy: %f\" % score)"
   ]
  }
 ],
 "metadata": {
  "kernelspec": {
   "display_name": "Python 2",
   "language": "python",
   "name": "python2"
  },
  "language_info": {
   "codemirror_mode": {
    "name": "ipython",
    "version": 2
   },
   "file_extension": ".py",
   "mimetype": "text/x-python",
   "name": "python",
   "nbconvert_exporter": "python",
   "pygments_lexer": "ipython2",
   "version": "2.7.6"
  }
 },
 "nbformat": 4,
 "nbformat_minor": 0
}
